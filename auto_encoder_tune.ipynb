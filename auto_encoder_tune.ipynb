{
 "cells": [
  {
   "cell_type": "code",
   "execution_count": 1,
   "id": "a183ea86-e57b-463b-961b-dbe79060dcab",
   "metadata": {
    "tags": []
   },
   "outputs": [],
   "source": [
    "%load_ext autoreload\n",
    "%autoreload 2"
   ]
  },
  {
   "cell_type": "code",
   "execution_count": 2,
   "id": "0ca56ebe-92a8-4f55-aed5-904fb58f0e5b",
   "metadata": {},
   "outputs": [],
   "source": [
    "import pandas as pd\n",
    "import numpy as np\n",
    "import matplotlib.pyplot as plt\n",
    "import seaborn as sns\n",
    "import torch\n",
    "import torch.nn as nn\n",
    "import torch.optim as optim\n",
    "import plotly.express as px\n",
    "import plotly.graph_objects as go\n",
    "from plotly.subplots import make_subplots\n",
    "import math\n",
    "from scipy import stats\n",
    "import warnings\n",
    "import re\n",
    "import datetime\n",
    "from package.utils import profile_data ,DotDict, timer, get_config, load_data, merge_data "
   ]
  },
  {
   "cell_type": "markdown",
   "id": "f4521f9b-b934-42d0-b9c9-b3ceec584d24",
   "metadata": {},
   "source": [
    "## Autoencoder"
   ]
  },
  {
   "cell_type": "code",
   "execution_count": 3,
   "id": "2eded3b9-0a27-4e17-8c6d-1efbe93ad5c7",
   "metadata": {},
   "outputs": [],
   "source": [
    "# from package.model_deep import (generate_mock_data, \n",
    "#                                 prepare_data,\n",
    "#                                 set_seed,\n",
    "#                                 Autoencoder,\n",
    "#                                 train_autoencoder,\n",
    "#                                 plot_learning_curve,\n",
    "#                                 detect_anomalies,\n",
    "#                                 extract_embeddings,\n",
    "#                                 plot_latent_space\n",
    "#                                 )"
   ]
  },
  {
   "cell_type": "code",
   "execution_count": 4,
   "id": "0c270b52-c57f-4d93-a19f-77313cfb7f02",
   "metadata": {},
   "outputs": [],
   "source": [
    "from package.model_deep_ae import (set_seed,\n",
    "                                generate_mock_data,\n",
    "                                expand_rule_columns,\n",
    "                                subset_by_timeunit,\n",
    "                                split_train_test,\n",
    "                                prepare_train_val_test_data,\n",
    "                                Autoencoder,\n",
    "                                train_autoencoder,\n",
    "                                plot_learning_curve,\n",
    "                                get_reconstruction_error,\n",
    "                                plot_threshold_vs_metric_percentile,\n",
    "                                flag_anomalies,\n",
    "                                detect_anomalies,\n",
    "                                tune_autoencoder_grid,\n",
    "                                extract_embeddings,\n",
    "                                plot_latent_space,\n",
    "                                create_pack_results,\n",
    "                                append_experiment_results\n",
    "                                )"
   ]
  },
  {
   "cell_type": "markdown",
   "id": "78d56287-cb1a-4fbf-b437-b1baed3d516c",
   "metadata": {},
   "source": [
    "### Prep data"
   ]
  },
  {
   "cell_type": "code",
   "execution_count": 5,
   "id": "86c9bdca-bca3-451b-a385-272706d42c2d",
   "metadata": {
    "scrolled": true
   },
   "outputs": [
    {
     "name": "stdout",
     "output_type": "stream",
     "text": [
      "function: generate_mock_data is starting...\n",
      "function: generate_mock_data successfully executed at 1.2720863819122314s\n"
     ]
    },
    {
     "data": {
      "text/html": [
       "<div>\n",
       "<style scoped>\n",
       "    .dataframe tbody tr th:only-of-type {\n",
       "        vertical-align: middle;\n",
       "    }\n",
       "\n",
       "    .dataframe tbody tr th {\n",
       "        vertical-align: top;\n",
       "    }\n",
       "\n",
       "    .dataframe thead th {\n",
       "        text-align: right;\n",
       "    }\n",
       "</style>\n",
       "<table border=\"1\" class=\"dataframe\">\n",
       "  <thead>\n",
       "    <tr style=\"text-align: right;\">\n",
       "      <th></th>\n",
       "      <th>sales_id</th>\n",
       "      <th>timeunit</th>\n",
       "      <th>flag_fraud</th>\n",
       "      <th>rule_1</th>\n",
       "      <th>rule_2</th>\n",
       "      <th>rule_3</th>\n",
       "      <th>rule_4</th>\n",
       "      <th>rule_5</th>\n",
       "      <th>rule_6</th>\n",
       "      <th>rule_7</th>\n",
       "      <th>rule_8</th>\n",
       "      <th>rule_9</th>\n",
       "      <th>rule_10</th>\n",
       "    </tr>\n",
       "  </thead>\n",
       "  <tbody>\n",
       "    <tr>\n",
       "      <th>0</th>\n",
       "      <td>0</td>\n",
       "      <td>l3</td>\n",
       "      <td>0</td>\n",
       "      <td>-1.487862</td>\n",
       "      <td>-1.125186</td>\n",
       "      <td>0.388819</td>\n",
       "      <td>-1.173873</td>\n",
       "      <td>1.112634</td>\n",
       "      <td>-0.071120</td>\n",
       "      <td>0.085595</td>\n",
       "      <td>-0.278373</td>\n",
       "      <td>0.772848</td>\n",
       "      <td>0.783160</td>\n",
       "    </tr>\n",
       "    <tr>\n",
       "      <th>1</th>\n",
       "      <td>1</td>\n",
       "      <td>l3</td>\n",
       "      <td>1</td>\n",
       "      <td>4.182238</td>\n",
       "      <td>3.601215</td>\n",
       "      <td>2.665470</td>\n",
       "      <td>2.039528</td>\n",
       "      <td>3.012423</td>\n",
       "      <td>6.067259</td>\n",
       "      <td>3.677239</td>\n",
       "      <td>3.582941</td>\n",
       "      <td>2.306755</td>\n",
       "      <td>1.086816</td>\n",
       "    </tr>\n",
       "    <tr>\n",
       "      <th>2</th>\n",
       "      <td>2</td>\n",
       "      <td>l3</td>\n",
       "      <td>0</td>\n",
       "      <td>0.608267</td>\n",
       "      <td>1.345935</td>\n",
       "      <td>-0.174648</td>\n",
       "      <td>1.360168</td>\n",
       "      <td>-0.189693</td>\n",
       "      <td>0.849585</td>\n",
       "      <td>-2.218570</td>\n",
       "      <td>2.418778</td>\n",
       "      <td>1.495458</td>\n",
       "      <td>-0.284626</td>\n",
       "    </tr>\n",
       "    <tr>\n",
       "      <th>3</th>\n",
       "      <td>3</td>\n",
       "      <td>l3</td>\n",
       "      <td>0</td>\n",
       "      <td>-1.972089</td>\n",
       "      <td>0.288028</td>\n",
       "      <td>-1.443926</td>\n",
       "      <td>0.444854</td>\n",
       "      <td>0.411566</td>\n",
       "      <td>-0.941403</td>\n",
       "      <td>1.120967</td>\n",
       "      <td>0.805575</td>\n",
       "      <td>0.975823</td>\n",
       "      <td>0.008858</td>\n",
       "    </tr>\n",
       "    <tr>\n",
       "      <th>4</th>\n",
       "      <td>4</td>\n",
       "      <td>l3</td>\n",
       "      <td>0</td>\n",
       "      <td>-1.415524</td>\n",
       "      <td>0.977872</td>\n",
       "      <td>-0.270371</td>\n",
       "      <td>-1.389780</td>\n",
       "      <td>1.352039</td>\n",
       "      <td>2.099408</td>\n",
       "      <td>-0.041248</td>\n",
       "      <td>2.159121</td>\n",
       "      <td>0.091315</td>\n",
       "      <td>-0.380456</td>\n",
       "    </tr>\n",
       "    <tr>\n",
       "      <th>...</th>\n",
       "      <td>...</td>\n",
       "      <td>...</td>\n",
       "      <td>...</td>\n",
       "      <td>...</td>\n",
       "      <td>...</td>\n",
       "      <td>...</td>\n",
       "      <td>...</td>\n",
       "      <td>...</td>\n",
       "      <td>...</td>\n",
       "      <td>...</td>\n",
       "      <td>...</td>\n",
       "      <td>...</td>\n",
       "      <td>...</td>\n",
       "    </tr>\n",
       "    <tr>\n",
       "      <th>59995</th>\n",
       "      <td>9995</td>\n",
       "      <td>l36</td>\n",
       "      <td>0</td>\n",
       "      <td>0.647493</td>\n",
       "      <td>-0.163831</td>\n",
       "      <td>-1.743780</td>\n",
       "      <td>1.184970</td>\n",
       "      <td>-0.193500</td>\n",
       "      <td>-1.273190</td>\n",
       "      <td>0.773532</td>\n",
       "      <td>-1.803990</td>\n",
       "      <td>2.209333</td>\n",
       "      <td>-0.800634</td>\n",
       "    </tr>\n",
       "    <tr>\n",
       "      <th>59996</th>\n",
       "      <td>9996</td>\n",
       "      <td>l36</td>\n",
       "      <td>0</td>\n",
       "      <td>-0.716390</td>\n",
       "      <td>1.700367</td>\n",
       "      <td>-0.933375</td>\n",
       "      <td>0.191027</td>\n",
       "      <td>-1.348096</td>\n",
       "      <td>2.584121</td>\n",
       "      <td>-0.054343</td>\n",
       "      <td>-1.355835</td>\n",
       "      <td>1.124099</td>\n",
       "      <td>0.609250</td>\n",
       "    </tr>\n",
       "    <tr>\n",
       "      <th>59997</th>\n",
       "      <td>9997</td>\n",
       "      <td>l36</td>\n",
       "      <td>0</td>\n",
       "      <td>1.066770</td>\n",
       "      <td>-1.592284</td>\n",
       "      <td>-1.706892</td>\n",
       "      <td>1.178747</td>\n",
       "      <td>0.985029</td>\n",
       "      <td>0.364593</td>\n",
       "      <td>-2.039914</td>\n",
       "      <td>-0.325981</td>\n",
       "      <td>0.478952</td>\n",
       "      <td>0.808948</td>\n",
       "    </tr>\n",
       "    <tr>\n",
       "      <th>59998</th>\n",
       "      <td>9998</td>\n",
       "      <td>l36</td>\n",
       "      <td>0</td>\n",
       "      <td>1.622065</td>\n",
       "      <td>-0.303766</td>\n",
       "      <td>1.377932</td>\n",
       "      <td>-0.777375</td>\n",
       "      <td>-0.179569</td>\n",
       "      <td>0.607243</td>\n",
       "      <td>-1.106324</td>\n",
       "      <td>-0.591367</td>\n",
       "      <td>0.501293</td>\n",
       "      <td>0.450664</td>\n",
       "    </tr>\n",
       "    <tr>\n",
       "      <th>59999</th>\n",
       "      <td>9999</td>\n",
       "      <td>l36</td>\n",
       "      <td>0</td>\n",
       "      <td>-0.627238</td>\n",
       "      <td>0.802268</td>\n",
       "      <td>0.370617</td>\n",
       "      <td>0.899228</td>\n",
       "      <td>-1.062791</td>\n",
       "      <td>-0.834835</td>\n",
       "      <td>0.212760</td>\n",
       "      <td>-0.731499</td>\n",
       "      <td>-0.355249</td>\n",
       "      <td>-0.062371</td>\n",
       "    </tr>\n",
       "  </tbody>\n",
       "</table>\n",
       "<p>60000 rows × 13 columns</p>\n",
       "</div>"
      ],
      "text/plain": [
       "       sales_id timeunit  flag_fraud    rule_1    rule_2    rule_3    rule_4  \\\n",
       "0             0       l3           0 -1.487862 -1.125186  0.388819 -1.173873   \n",
       "1             1       l3           1  4.182238  3.601215  2.665470  2.039528   \n",
       "2             2       l3           0  0.608267  1.345935 -0.174648  1.360168   \n",
       "3             3       l3           0 -1.972089  0.288028 -1.443926  0.444854   \n",
       "4             4       l3           0 -1.415524  0.977872 -0.270371 -1.389780   \n",
       "...         ...      ...         ...       ...       ...       ...       ...   \n",
       "59995      9995      l36           0  0.647493 -0.163831 -1.743780  1.184970   \n",
       "59996      9996      l36           0 -0.716390  1.700367 -0.933375  0.191027   \n",
       "59997      9997      l36           0  1.066770 -1.592284 -1.706892  1.178747   \n",
       "59998      9998      l36           0  1.622065 -0.303766  1.377932 -0.777375   \n",
       "59999      9999      l36           0 -0.627238  0.802268  0.370617  0.899228   \n",
       "\n",
       "         rule_5    rule_6    rule_7    rule_8    rule_9   rule_10  \n",
       "0      1.112634 -0.071120  0.085595 -0.278373  0.772848  0.783160  \n",
       "1      3.012423  6.067259  3.677239  3.582941  2.306755  1.086816  \n",
       "2     -0.189693  0.849585 -2.218570  2.418778  1.495458 -0.284626  \n",
       "3      0.411566 -0.941403  1.120967  0.805575  0.975823  0.008858  \n",
       "4      1.352039  2.099408 -0.041248  2.159121  0.091315 -0.380456  \n",
       "...         ...       ...       ...       ...       ...       ...  \n",
       "59995 -0.193500 -1.273190  0.773532 -1.803990  2.209333 -0.800634  \n",
       "59996 -1.348096  2.584121 -0.054343 -1.355835  1.124099  0.609250  \n",
       "59997  0.985029  0.364593 -2.039914 -0.325981  0.478952  0.808948  \n",
       "59998 -0.179569  0.607243 -1.106324 -0.591367  0.501293  0.450664  \n",
       "59999 -1.062791 -0.834835  0.212760 -0.731499 -0.355249 -0.062371  \n",
       "\n",
       "[60000 rows x 13 columns]"
      ]
     },
     "execution_count": 5,
     "metadata": {},
     "output_type": "execute_result"
    }
   ],
   "source": [
    "mock1 = generate_mock_data(n_sales=10000, n_rules=10, fraud_ratio=0.05, seed=42)\n",
    "mock1"
   ]
  },
  {
   "cell_type": "code",
   "execution_count": 6,
   "id": "ace8bba5-9cd7-4334-8a1f-4b6877819e50",
   "metadata": {},
   "outputs": [
    {
     "name": "stdout",
     "output_type": "stream",
     "text": [
      "function: expand_rule_columns is starting...\n",
      "function: expand_rule_columns successfully executed at 0.42163944244384766s\n"
     ]
    },
    {
     "data": {
      "text/html": [
       "<div>\n",
       "<style scoped>\n",
       "    .dataframe tbody tr th:only-of-type {\n",
       "        vertical-align: middle;\n",
       "    }\n",
       "\n",
       "    .dataframe tbody tr th {\n",
       "        vertical-align: top;\n",
       "    }\n",
       "\n",
       "    .dataframe thead th {\n",
       "        text-align: right;\n",
       "    }\n",
       "</style>\n",
       "<table border=\"1\" class=\"dataframe\">\n",
       "  <thead>\n",
       "    <tr style=\"text-align: right;\">\n",
       "      <th></th>\n",
       "      <th>sales_id</th>\n",
       "      <th>flag_fraud</th>\n",
       "      <th>rule_10_l12</th>\n",
       "      <th>rule_10_l24</th>\n",
       "      <th>rule_10_l3</th>\n",
       "      <th>rule_10_l36</th>\n",
       "      <th>rule_10_l6</th>\n",
       "      <th>rule_10_l9</th>\n",
       "      <th>rule_1_l12</th>\n",
       "      <th>rule_1_l24</th>\n",
       "      <th>...</th>\n",
       "      <th>rule_8_l3</th>\n",
       "      <th>rule_8_l36</th>\n",
       "      <th>rule_8_l6</th>\n",
       "      <th>rule_8_l9</th>\n",
       "      <th>rule_9_l12</th>\n",
       "      <th>rule_9_l24</th>\n",
       "      <th>rule_9_l3</th>\n",
       "      <th>rule_9_l36</th>\n",
       "      <th>rule_9_l6</th>\n",
       "      <th>rule_9_l9</th>\n",
       "    </tr>\n",
       "  </thead>\n",
       "  <tbody>\n",
       "    <tr>\n",
       "      <th>0</th>\n",
       "      <td>0</td>\n",
       "      <td>0</td>\n",
       "      <td>-0.943490</td>\n",
       "      <td>0.000232</td>\n",
       "      <td>0.783160</td>\n",
       "      <td>0.668797</td>\n",
       "      <td>0.960825</td>\n",
       "      <td>0.888457</td>\n",
       "      <td>-0.389376</td>\n",
       "      <td>0.583561</td>\n",
       "      <td>...</td>\n",
       "      <td>-0.278373</td>\n",
       "      <td>2.053579</td>\n",
       "      <td>0.455672</td>\n",
       "      <td>-0.069470</td>\n",
       "      <td>0.495704</td>\n",
       "      <td>0.001691</td>\n",
       "      <td>0.772848</td>\n",
       "      <td>1.665550</td>\n",
       "      <td>0.385248</td>\n",
       "      <td>-0.944372</td>\n",
       "    </tr>\n",
       "    <tr>\n",
       "      <th>1</th>\n",
       "      <td>1</td>\n",
       "      <td>1</td>\n",
       "      <td>4.692913</td>\n",
       "      <td>4.551202</td>\n",
       "      <td>1.086816</td>\n",
       "      <td>3.403392</td>\n",
       "      <td>5.183808</td>\n",
       "      <td>1.615426</td>\n",
       "      <td>2.214356</td>\n",
       "      <td>-0.011207</td>\n",
       "      <td>...</td>\n",
       "      <td>3.582941</td>\n",
       "      <td>-0.468026</td>\n",
       "      <td>2.011123</td>\n",
       "      <td>3.757316</td>\n",
       "      <td>2.700979</td>\n",
       "      <td>-0.738528</td>\n",
       "      <td>2.306755</td>\n",
       "      <td>0.177472</td>\n",
       "      <td>3.777520</td>\n",
       "      <td>3.757815</td>\n",
       "    </tr>\n",
       "    <tr>\n",
       "      <th>2</th>\n",
       "      <td>2</td>\n",
       "      <td>0</td>\n",
       "      <td>-0.090432</td>\n",
       "      <td>0.162957</td>\n",
       "      <td>-0.284626</td>\n",
       "      <td>1.460788</td>\n",
       "      <td>0.862283</td>\n",
       "      <td>0.239878</td>\n",
       "      <td>-0.033178</td>\n",
       "      <td>0.214724</td>\n",
       "      <td>...</td>\n",
       "      <td>2.418778</td>\n",
       "      <td>-0.601681</td>\n",
       "      <td>0.202997</td>\n",
       "      <td>2.124338</td>\n",
       "      <td>2.314027</td>\n",
       "      <td>-0.759213</td>\n",
       "      <td>1.495458</td>\n",
       "      <td>-0.912673</td>\n",
       "      <td>-0.432277</td>\n",
       "      <td>-0.981344</td>\n",
       "    </tr>\n",
       "    <tr>\n",
       "      <th>3</th>\n",
       "      <td>3</td>\n",
       "      <td>0</td>\n",
       "      <td>-0.474335</td>\n",
       "      <td>-0.921535</td>\n",
       "      <td>0.008858</td>\n",
       "      <td>0.198231</td>\n",
       "      <td>0.106144</td>\n",
       "      <td>-0.716708</td>\n",
       "      <td>-0.282492</td>\n",
       "      <td>-0.336470</td>\n",
       "      <td>...</td>\n",
       "      <td>0.805575</td>\n",
       "      <td>0.768310</td>\n",
       "      <td>-1.021580</td>\n",
       "      <td>-1.304657</td>\n",
       "      <td>0.012273</td>\n",
       "      <td>-2.042267</td>\n",
       "      <td>0.975823</td>\n",
       "      <td>1.258121</td>\n",
       "      <td>-0.668648</td>\n",
       "      <td>0.743399</td>\n",
       "    </tr>\n",
       "    <tr>\n",
       "      <th>4</th>\n",
       "      <td>4</td>\n",
       "      <td>0</td>\n",
       "      <td>0.216357</td>\n",
       "      <td>0.160711</td>\n",
       "      <td>-0.380456</td>\n",
       "      <td>-0.865218</td>\n",
       "      <td>0.443058</td>\n",
       "      <td>0.023325</td>\n",
       "      <td>-1.395400</td>\n",
       "      <td>-0.888219</td>\n",
       "      <td>...</td>\n",
       "      <td>2.159121</td>\n",
       "      <td>-0.920259</td>\n",
       "      <td>0.253299</td>\n",
       "      <td>0.587801</td>\n",
       "      <td>-0.308097</td>\n",
       "      <td>-0.009286</td>\n",
       "      <td>0.091315</td>\n",
       "      <td>-1.773001</td>\n",
       "      <td>0.756075</td>\n",
       "      <td>-0.458285</td>\n",
       "    </tr>\n",
       "    <tr>\n",
       "      <th>...</th>\n",
       "      <td>...</td>\n",
       "      <td>...</td>\n",
       "      <td>...</td>\n",
       "      <td>...</td>\n",
       "      <td>...</td>\n",
       "      <td>...</td>\n",
       "      <td>...</td>\n",
       "      <td>...</td>\n",
       "      <td>...</td>\n",
       "      <td>...</td>\n",
       "      <td>...</td>\n",
       "      <td>...</td>\n",
       "      <td>...</td>\n",
       "      <td>...</td>\n",
       "      <td>...</td>\n",
       "      <td>...</td>\n",
       "      <td>...</td>\n",
       "      <td>...</td>\n",
       "      <td>...</td>\n",
       "      <td>...</td>\n",
       "      <td>...</td>\n",
       "    </tr>\n",
       "    <tr>\n",
       "      <th>9995</th>\n",
       "      <td>9995</td>\n",
       "      <td>0</td>\n",
       "      <td>0.375382</td>\n",
       "      <td>-1.835668</td>\n",
       "      <td>-0.044578</td>\n",
       "      <td>-0.800634</td>\n",
       "      <td>-0.630433</td>\n",
       "      <td>-0.276283</td>\n",
       "      <td>2.580578</td>\n",
       "      <td>-1.781299</td>\n",
       "      <td>...</td>\n",
       "      <td>0.135087</td>\n",
       "      <td>-1.803990</td>\n",
       "      <td>0.191417</td>\n",
       "      <td>0.677831</td>\n",
       "      <td>1.198868</td>\n",
       "      <td>-0.298484</td>\n",
       "      <td>-0.032698</td>\n",
       "      <td>2.209333</td>\n",
       "      <td>0.449176</td>\n",
       "      <td>-0.458590</td>\n",
       "    </tr>\n",
       "    <tr>\n",
       "      <th>9996</th>\n",
       "      <td>9996</td>\n",
       "      <td>0</td>\n",
       "      <td>0.345934</td>\n",
       "      <td>-1.321427</td>\n",
       "      <td>-2.077919</td>\n",
       "      <td>0.609250</td>\n",
       "      <td>0.135422</td>\n",
       "      <td>0.709128</td>\n",
       "      <td>-0.499775</td>\n",
       "      <td>-0.600470</td>\n",
       "      <td>...</td>\n",
       "      <td>0.136357</td>\n",
       "      <td>-1.355835</td>\n",
       "      <td>0.836549</td>\n",
       "      <td>-1.048457</td>\n",
       "      <td>0.901520</td>\n",
       "      <td>0.958509</td>\n",
       "      <td>0.467324</td>\n",
       "      <td>1.124099</td>\n",
       "      <td>-0.847919</td>\n",
       "      <td>-1.218175</td>\n",
       "    </tr>\n",
       "    <tr>\n",
       "      <th>9997</th>\n",
       "      <td>9997</td>\n",
       "      <td>0</td>\n",
       "      <td>-0.185466</td>\n",
       "      <td>-0.474796</td>\n",
       "      <td>-0.171683</td>\n",
       "      <td>0.808948</td>\n",
       "      <td>0.278778</td>\n",
       "      <td>1.366620</td>\n",
       "      <td>-1.171032</td>\n",
       "      <td>0.312918</td>\n",
       "      <td>...</td>\n",
       "      <td>-0.874977</td>\n",
       "      <td>-0.325981</td>\n",
       "      <td>0.455277</td>\n",
       "      <td>1.512830</td>\n",
       "      <td>-0.218674</td>\n",
       "      <td>-0.583616</td>\n",
       "      <td>-0.052822</td>\n",
       "      <td>0.478952</td>\n",
       "      <td>-2.058627</td>\n",
       "      <td>0.809383</td>\n",
       "    </tr>\n",
       "    <tr>\n",
       "      <th>9998</th>\n",
       "      <td>9998</td>\n",
       "      <td>0</td>\n",
       "      <td>-0.992855</td>\n",
       "      <td>1.335352</td>\n",
       "      <td>-0.272822</td>\n",
       "      <td>0.450664</td>\n",
       "      <td>0.403903</td>\n",
       "      <td>0.112418</td>\n",
       "      <td>-0.819924</td>\n",
       "      <td>-0.590858</td>\n",
       "      <td>...</td>\n",
       "      <td>-0.698919</td>\n",
       "      <td>-0.591367</td>\n",
       "      <td>0.020615</td>\n",
       "      <td>-0.224661</td>\n",
       "      <td>0.135384</td>\n",
       "      <td>0.522100</td>\n",
       "      <td>-0.929514</td>\n",
       "      <td>0.501293</td>\n",
       "      <td>-0.439973</td>\n",
       "      <td>-1.102105</td>\n",
       "    </tr>\n",
       "    <tr>\n",
       "      <th>9999</th>\n",
       "      <td>9999</td>\n",
       "      <td>0</td>\n",
       "      <td>-1.782398</td>\n",
       "      <td>0.745420</td>\n",
       "      <td>-0.407116</td>\n",
       "      <td>-0.062371</td>\n",
       "      <td>-0.384028</td>\n",
       "      <td>-0.597112</td>\n",
       "      <td>0.969169</td>\n",
       "      <td>-0.204346</td>\n",
       "      <td>...</td>\n",
       "      <td>0.110307</td>\n",
       "      <td>-0.731499</td>\n",
       "      <td>0.114464</td>\n",
       "      <td>-0.905712</td>\n",
       "      <td>-0.594942</td>\n",
       "      <td>0.060243</td>\n",
       "      <td>0.501659</td>\n",
       "      <td>-0.355249</td>\n",
       "      <td>-0.122637</td>\n",
       "      <td>0.831453</td>\n",
       "    </tr>\n",
       "  </tbody>\n",
       "</table>\n",
       "<p>10000 rows × 62 columns</p>\n",
       "</div>"
      ],
      "text/plain": [
       "      sales_id  flag_fraud  rule_10_l12  rule_10_l24  rule_10_l3  rule_10_l36  \\\n",
       "0            0           0    -0.943490     0.000232    0.783160     0.668797   \n",
       "1            1           1     4.692913     4.551202    1.086816     3.403392   \n",
       "2            2           0    -0.090432     0.162957   -0.284626     1.460788   \n",
       "3            3           0    -0.474335    -0.921535    0.008858     0.198231   \n",
       "4            4           0     0.216357     0.160711   -0.380456    -0.865218   \n",
       "...        ...         ...          ...          ...         ...          ...   \n",
       "9995      9995           0     0.375382    -1.835668   -0.044578    -0.800634   \n",
       "9996      9996           0     0.345934    -1.321427   -2.077919     0.609250   \n",
       "9997      9997           0    -0.185466    -0.474796   -0.171683     0.808948   \n",
       "9998      9998           0    -0.992855     1.335352   -0.272822     0.450664   \n",
       "9999      9999           0    -1.782398     0.745420   -0.407116    -0.062371   \n",
       "\n",
       "      rule_10_l6  rule_10_l9  rule_1_l12  rule_1_l24  ...  rule_8_l3  \\\n",
       "0       0.960825    0.888457   -0.389376    0.583561  ...  -0.278373   \n",
       "1       5.183808    1.615426    2.214356   -0.011207  ...   3.582941   \n",
       "2       0.862283    0.239878   -0.033178    0.214724  ...   2.418778   \n",
       "3       0.106144   -0.716708   -0.282492   -0.336470  ...   0.805575   \n",
       "4       0.443058    0.023325   -1.395400   -0.888219  ...   2.159121   \n",
       "...          ...         ...         ...         ...  ...        ...   \n",
       "9995   -0.630433   -0.276283    2.580578   -1.781299  ...   0.135087   \n",
       "9996    0.135422    0.709128   -0.499775   -0.600470  ...   0.136357   \n",
       "9997    0.278778    1.366620   -1.171032    0.312918  ...  -0.874977   \n",
       "9998    0.403903    0.112418   -0.819924   -0.590858  ...  -0.698919   \n",
       "9999   -0.384028   -0.597112    0.969169   -0.204346  ...   0.110307   \n",
       "\n",
       "      rule_8_l36  rule_8_l6  rule_8_l9  rule_9_l12  rule_9_l24  rule_9_l3  \\\n",
       "0       2.053579   0.455672  -0.069470    0.495704    0.001691   0.772848   \n",
       "1      -0.468026   2.011123   3.757316    2.700979   -0.738528   2.306755   \n",
       "2      -0.601681   0.202997   2.124338    2.314027   -0.759213   1.495458   \n",
       "3       0.768310  -1.021580  -1.304657    0.012273   -2.042267   0.975823   \n",
       "4      -0.920259   0.253299   0.587801   -0.308097   -0.009286   0.091315   \n",
       "...          ...        ...        ...         ...         ...        ...   \n",
       "9995   -1.803990   0.191417   0.677831    1.198868   -0.298484  -0.032698   \n",
       "9996   -1.355835   0.836549  -1.048457    0.901520    0.958509   0.467324   \n",
       "9997   -0.325981   0.455277   1.512830   -0.218674   -0.583616  -0.052822   \n",
       "9998   -0.591367   0.020615  -0.224661    0.135384    0.522100  -0.929514   \n",
       "9999   -0.731499   0.114464  -0.905712   -0.594942    0.060243   0.501659   \n",
       "\n",
       "      rule_9_l36  rule_9_l6  rule_9_l9  \n",
       "0       1.665550   0.385248  -0.944372  \n",
       "1       0.177472   3.777520   3.757815  \n",
       "2      -0.912673  -0.432277  -0.981344  \n",
       "3       1.258121  -0.668648   0.743399  \n",
       "4      -1.773001   0.756075  -0.458285  \n",
       "...          ...        ...        ...  \n",
       "9995    2.209333   0.449176  -0.458590  \n",
       "9996    1.124099  -0.847919  -1.218175  \n",
       "9997    0.478952  -2.058627   0.809383  \n",
       "9998    0.501293  -0.439973  -1.102105  \n",
       "9999   -0.355249  -0.122637   0.831453  \n",
       "\n",
       "[10000 rows x 62 columns]"
      ]
     },
     "execution_count": 6,
     "metadata": {},
     "output_type": "execute_result"
    }
   ],
   "source": [
    "df_transformed = expand_rule_columns(mock1)\n",
    "df_transformed"
   ]
  },
  {
   "cell_type": "code",
   "execution_count": 7,
   "id": "b4e66679-a99c-4d14-b9b4-dee9f25f416f",
   "metadata": {
    "scrolled": true
   },
   "outputs": [
    {
     "name": "stdout",
     "output_type": "stream",
     "text": [
      "function: subset_by_timeunit is starting...\n",
      "function: subset_by_timeunit successfully executed at 0.001275777816772461s\n"
     ]
    },
    {
     "data": {
      "text/html": [
       "<div>\n",
       "<style scoped>\n",
       "    .dataframe tbody tr th:only-of-type {\n",
       "        vertical-align: middle;\n",
       "    }\n",
       "\n",
       "    .dataframe tbody tr th {\n",
       "        vertical-align: top;\n",
       "    }\n",
       "\n",
       "    .dataframe thead th {\n",
       "        text-align: right;\n",
       "    }\n",
       "</style>\n",
       "<table border=\"1\" class=\"dataframe\">\n",
       "  <thead>\n",
       "    <tr style=\"text-align: right;\">\n",
       "      <th></th>\n",
       "      <th>sales_id</th>\n",
       "      <th>flag_fraud</th>\n",
       "      <th>rule_10_l3</th>\n",
       "      <th>rule_1_l3</th>\n",
       "      <th>rule_2_l3</th>\n",
       "      <th>rule_3_l3</th>\n",
       "      <th>rule_4_l3</th>\n",
       "      <th>rule_5_l3</th>\n",
       "      <th>rule_6_l3</th>\n",
       "      <th>rule_7_l3</th>\n",
       "      <th>rule_8_l3</th>\n",
       "      <th>rule_9_l3</th>\n",
       "    </tr>\n",
       "  </thead>\n",
       "  <tbody>\n",
       "    <tr>\n",
       "      <th>0</th>\n",
       "      <td>0</td>\n",
       "      <td>0</td>\n",
       "      <td>0.783160</td>\n",
       "      <td>-1.487862</td>\n",
       "      <td>-1.125186</td>\n",
       "      <td>0.388819</td>\n",
       "      <td>-1.173873</td>\n",
       "      <td>1.112634</td>\n",
       "      <td>-0.071120</td>\n",
       "      <td>0.085595</td>\n",
       "      <td>-0.278373</td>\n",
       "      <td>0.772848</td>\n",
       "    </tr>\n",
       "    <tr>\n",
       "      <th>1</th>\n",
       "      <td>1</td>\n",
       "      <td>1</td>\n",
       "      <td>1.086816</td>\n",
       "      <td>4.182238</td>\n",
       "      <td>3.601215</td>\n",
       "      <td>2.665470</td>\n",
       "      <td>2.039528</td>\n",
       "      <td>3.012423</td>\n",
       "      <td>6.067259</td>\n",
       "      <td>3.677239</td>\n",
       "      <td>3.582941</td>\n",
       "      <td>2.306755</td>\n",
       "    </tr>\n",
       "    <tr>\n",
       "      <th>2</th>\n",
       "      <td>2</td>\n",
       "      <td>0</td>\n",
       "      <td>-0.284626</td>\n",
       "      <td>0.608267</td>\n",
       "      <td>1.345935</td>\n",
       "      <td>-0.174648</td>\n",
       "      <td>1.360168</td>\n",
       "      <td>-0.189693</td>\n",
       "      <td>0.849585</td>\n",
       "      <td>-2.218570</td>\n",
       "      <td>2.418778</td>\n",
       "      <td>1.495458</td>\n",
       "    </tr>\n",
       "    <tr>\n",
       "      <th>3</th>\n",
       "      <td>3</td>\n",
       "      <td>0</td>\n",
       "      <td>0.008858</td>\n",
       "      <td>-1.972089</td>\n",
       "      <td>0.288028</td>\n",
       "      <td>-1.443926</td>\n",
       "      <td>0.444854</td>\n",
       "      <td>0.411566</td>\n",
       "      <td>-0.941403</td>\n",
       "      <td>1.120967</td>\n",
       "      <td>0.805575</td>\n",
       "      <td>0.975823</td>\n",
       "    </tr>\n",
       "    <tr>\n",
       "      <th>4</th>\n",
       "      <td>4</td>\n",
       "      <td>0</td>\n",
       "      <td>-0.380456</td>\n",
       "      <td>-1.415524</td>\n",
       "      <td>0.977872</td>\n",
       "      <td>-0.270371</td>\n",
       "      <td>-1.389780</td>\n",
       "      <td>1.352039</td>\n",
       "      <td>2.099408</td>\n",
       "      <td>-0.041248</td>\n",
       "      <td>2.159121</td>\n",
       "      <td>0.091315</td>\n",
       "    </tr>\n",
       "    <tr>\n",
       "      <th>...</th>\n",
       "      <td>...</td>\n",
       "      <td>...</td>\n",
       "      <td>...</td>\n",
       "      <td>...</td>\n",
       "      <td>...</td>\n",
       "      <td>...</td>\n",
       "      <td>...</td>\n",
       "      <td>...</td>\n",
       "      <td>...</td>\n",
       "      <td>...</td>\n",
       "      <td>...</td>\n",
       "      <td>...</td>\n",
       "    </tr>\n",
       "    <tr>\n",
       "      <th>9995</th>\n",
       "      <td>9995</td>\n",
       "      <td>0</td>\n",
       "      <td>-0.044578</td>\n",
       "      <td>-1.529631</td>\n",
       "      <td>1.238310</td>\n",
       "      <td>-0.532892</td>\n",
       "      <td>0.190398</td>\n",
       "      <td>0.422554</td>\n",
       "      <td>-0.023546</td>\n",
       "      <td>-1.133380</td>\n",
       "      <td>0.135087</td>\n",
       "      <td>-0.032698</td>\n",
       "    </tr>\n",
       "    <tr>\n",
       "      <th>9996</th>\n",
       "      <td>9996</td>\n",
       "      <td>0</td>\n",
       "      <td>-2.077919</td>\n",
       "      <td>-0.229829</td>\n",
       "      <td>0.674063</td>\n",
       "      <td>1.617860</td>\n",
       "      <td>1.771565</td>\n",
       "      <td>0.757900</td>\n",
       "      <td>0.673849</td>\n",
       "      <td>-1.540880</td>\n",
       "      <td>0.136357</td>\n",
       "      <td>0.467324</td>\n",
       "    </tr>\n",
       "    <tr>\n",
       "      <th>9997</th>\n",
       "      <td>9997</td>\n",
       "      <td>0</td>\n",
       "      <td>-0.171683</td>\n",
       "      <td>1.911644</td>\n",
       "      <td>-0.083414</td>\n",
       "      <td>-0.863277</td>\n",
       "      <td>-1.034273</td>\n",
       "      <td>0.248429</td>\n",
       "      <td>0.416630</td>\n",
       "      <td>1.336392</td>\n",
       "      <td>-0.874977</td>\n",
       "      <td>-0.052822</td>\n",
       "    </tr>\n",
       "    <tr>\n",
       "      <th>9998</th>\n",
       "      <td>9998</td>\n",
       "      <td>0</td>\n",
       "      <td>-0.272822</td>\n",
       "      <td>-0.438518</td>\n",
       "      <td>-0.747820</td>\n",
       "      <td>1.957480</td>\n",
       "      <td>0.877297</td>\n",
       "      <td>0.099010</td>\n",
       "      <td>0.422686</td>\n",
       "      <td>0.969281</td>\n",
       "      <td>-0.698919</td>\n",
       "      <td>-0.929514</td>\n",
       "    </tr>\n",
       "    <tr>\n",
       "      <th>9999</th>\n",
       "      <td>9999</td>\n",
       "      <td>0</td>\n",
       "      <td>-0.407116</td>\n",
       "      <td>0.941657</td>\n",
       "      <td>2.226759</td>\n",
       "      <td>-0.204595</td>\n",
       "      <td>-1.112335</td>\n",
       "      <td>0.274285</td>\n",
       "      <td>-0.115431</td>\n",
       "      <td>1.212781</td>\n",
       "      <td>0.110307</td>\n",
       "      <td>0.501659</td>\n",
       "    </tr>\n",
       "  </tbody>\n",
       "</table>\n",
       "<p>10000 rows × 12 columns</p>\n",
       "</div>"
      ],
      "text/plain": [
       "      sales_id  flag_fraud  rule_10_l3  rule_1_l3  rule_2_l3  rule_3_l3  \\\n",
       "0            0           0    0.783160  -1.487862  -1.125186   0.388819   \n",
       "1            1           1    1.086816   4.182238   3.601215   2.665470   \n",
       "2            2           0   -0.284626   0.608267   1.345935  -0.174648   \n",
       "3            3           0    0.008858  -1.972089   0.288028  -1.443926   \n",
       "4            4           0   -0.380456  -1.415524   0.977872  -0.270371   \n",
       "...        ...         ...         ...        ...        ...        ...   \n",
       "9995      9995           0   -0.044578  -1.529631   1.238310  -0.532892   \n",
       "9996      9996           0   -2.077919  -0.229829   0.674063   1.617860   \n",
       "9997      9997           0   -0.171683   1.911644  -0.083414  -0.863277   \n",
       "9998      9998           0   -0.272822  -0.438518  -0.747820   1.957480   \n",
       "9999      9999           0   -0.407116   0.941657   2.226759  -0.204595   \n",
       "\n",
       "      rule_4_l3  rule_5_l3  rule_6_l3  rule_7_l3  rule_8_l3  rule_9_l3  \n",
       "0     -1.173873   1.112634  -0.071120   0.085595  -0.278373   0.772848  \n",
       "1      2.039528   3.012423   6.067259   3.677239   3.582941   2.306755  \n",
       "2      1.360168  -0.189693   0.849585  -2.218570   2.418778   1.495458  \n",
       "3      0.444854   0.411566  -0.941403   1.120967   0.805575   0.975823  \n",
       "4     -1.389780   1.352039   2.099408  -0.041248   2.159121   0.091315  \n",
       "...         ...        ...        ...        ...        ...        ...  \n",
       "9995   0.190398   0.422554  -0.023546  -1.133380   0.135087  -0.032698  \n",
       "9996   1.771565   0.757900   0.673849  -1.540880   0.136357   0.467324  \n",
       "9997  -1.034273   0.248429   0.416630   1.336392  -0.874977  -0.052822  \n",
       "9998   0.877297   0.099010   0.422686   0.969281  -0.698919  -0.929514  \n",
       "9999  -1.112335   0.274285  -0.115431   1.212781   0.110307   0.501659  \n",
       "\n",
       "[10000 rows x 12 columns]"
      ]
     },
     "execution_count": 7,
     "metadata": {},
     "output_type": "execute_result"
    }
   ],
   "source": [
    "df_subset = subset_by_timeunit(df_transformed, [\"l3\"])\n",
    "df_subset"
   ]
  },
  {
   "cell_type": "code",
   "execution_count": 8,
   "id": "2a84e9dc-a488-4f61-9171-7b4ea81e079c",
   "metadata": {},
   "outputs": [
    {
     "name": "stdout",
     "output_type": "stream",
     "text": [
      "function: split_train_test is starting...\n",
      "function: split_train_test successfully executed at 0.004562854766845703s\n"
     ]
    }
   ],
   "source": [
    "train_all_df, test_df = split_train_test(df_subset)"
   ]
  },
  {
   "cell_type": "code",
   "execution_count": 9,
   "id": "5f9c546b-5837-49f2-9fd6-24ca7243b021",
   "metadata": {
    "scrolled": true
   },
   "outputs": [
    {
     "data": {
      "text/html": [
       "<div>\n",
       "<style scoped>\n",
       "    .dataframe tbody tr th:only-of-type {\n",
       "        vertical-align: middle;\n",
       "    }\n",
       "\n",
       "    .dataframe tbody tr th {\n",
       "        vertical-align: top;\n",
       "    }\n",
       "\n",
       "    .dataframe thead th {\n",
       "        text-align: right;\n",
       "    }\n",
       "</style>\n",
       "<table border=\"1\" class=\"dataframe\">\n",
       "  <thead>\n",
       "    <tr style=\"text-align: right;\">\n",
       "      <th></th>\n",
       "      <th>sales_id</th>\n",
       "      <th>flag_fraud</th>\n",
       "      <th>rule_10_l3</th>\n",
       "      <th>rule_1_l3</th>\n",
       "      <th>rule_2_l3</th>\n",
       "      <th>rule_3_l3</th>\n",
       "      <th>rule_4_l3</th>\n",
       "      <th>rule_5_l3</th>\n",
       "      <th>rule_6_l3</th>\n",
       "      <th>rule_7_l3</th>\n",
       "      <th>rule_8_l3</th>\n",
       "      <th>rule_9_l3</th>\n",
       "    </tr>\n",
       "  </thead>\n",
       "  <tbody>\n",
       "    <tr>\n",
       "      <th>0</th>\n",
       "      <td>3630</td>\n",
       "      <td>0</td>\n",
       "      <td>-0.234773</td>\n",
       "      <td>1.747087</td>\n",
       "      <td>-0.092075</td>\n",
       "      <td>0.487540</td>\n",
       "      <td>0.031593</td>\n",
       "      <td>-0.307526</td>\n",
       "      <td>-0.024198</td>\n",
       "      <td>0.769346</td>\n",
       "      <td>-0.053467</td>\n",
       "      <td>-0.160935</td>\n",
       "    </tr>\n",
       "    <tr>\n",
       "      <th>1</th>\n",
       "      <td>5986</td>\n",
       "      <td>0</td>\n",
       "      <td>1.327322</td>\n",
       "      <td>0.506857</td>\n",
       "      <td>-0.779419</td>\n",
       "      <td>0.070295</td>\n",
       "      <td>-0.504043</td>\n",
       "      <td>-0.643050</td>\n",
       "      <td>0.472607</td>\n",
       "      <td>-0.935056</td>\n",
       "      <td>0.520798</td>\n",
       "      <td>0.309667</td>\n",
       "    </tr>\n",
       "    <tr>\n",
       "      <th>2</th>\n",
       "      <td>7036</td>\n",
       "      <td>0</td>\n",
       "      <td>0.363375</td>\n",
       "      <td>-0.785461</td>\n",
       "      <td>2.390482</td>\n",
       "      <td>-0.646937</td>\n",
       "      <td>-0.624096</td>\n",
       "      <td>-0.985203</td>\n",
       "      <td>0.881314</td>\n",
       "      <td>-0.278975</td>\n",
       "      <td>0.813936</td>\n",
       "      <td>1.154796</td>\n",
       "    </tr>\n",
       "    <tr>\n",
       "      <th>3</th>\n",
       "      <td>628</td>\n",
       "      <td>0</td>\n",
       "      <td>-0.483484</td>\n",
       "      <td>0.326381</td>\n",
       "      <td>1.361037</td>\n",
       "      <td>0.038895</td>\n",
       "      <td>0.211381</td>\n",
       "      <td>1.182895</td>\n",
       "      <td>-1.544455</td>\n",
       "      <td>0.520176</td>\n",
       "      <td>-0.011590</td>\n",
       "      <td>0.566057</td>\n",
       "    </tr>\n",
       "    <tr>\n",
       "      <th>4</th>\n",
       "      <td>6352</td>\n",
       "      <td>0</td>\n",
       "      <td>-0.107302</td>\n",
       "      <td>0.829223</td>\n",
       "      <td>-0.073166</td>\n",
       "      <td>0.387465</td>\n",
       "      <td>-1.018486</td>\n",
       "      <td>-1.000645</td>\n",
       "      <td>-0.381408</td>\n",
       "      <td>0.358372</td>\n",
       "      <td>-0.777887</td>\n",
       "      <td>1.069188</td>\n",
       "    </tr>\n",
       "    <tr>\n",
       "      <th>...</th>\n",
       "      <td>...</td>\n",
       "      <td>...</td>\n",
       "      <td>...</td>\n",
       "      <td>...</td>\n",
       "      <td>...</td>\n",
       "      <td>...</td>\n",
       "      <td>...</td>\n",
       "      <td>...</td>\n",
       "      <td>...</td>\n",
       "      <td>...</td>\n",
       "      <td>...</td>\n",
       "      <td>...</td>\n",
       "    </tr>\n",
       "    <tr>\n",
       "      <th>7995</th>\n",
       "      <td>9252</td>\n",
       "      <td>0</td>\n",
       "      <td>-1.774210</td>\n",
       "      <td>-0.032849</td>\n",
       "      <td>0.705536</td>\n",
       "      <td>-0.446116</td>\n",
       "      <td>-1.258364</td>\n",
       "      <td>0.065479</td>\n",
       "      <td>-1.865180</td>\n",
       "      <td>2.542054</td>\n",
       "      <td>1.045306</td>\n",
       "      <td>0.319269</td>\n",
       "    </tr>\n",
       "    <tr>\n",
       "      <th>7996</th>\n",
       "      <td>5428</td>\n",
       "      <td>0</td>\n",
       "      <td>-1.243773</td>\n",
       "      <td>-1.069535</td>\n",
       "      <td>-0.434893</td>\n",
       "      <td>-0.511010</td>\n",
       "      <td>1.220962</td>\n",
       "      <td>-0.214250</td>\n",
       "      <td>-0.373091</td>\n",
       "      <td>1.128805</td>\n",
       "      <td>1.349662</td>\n",
       "      <td>-0.831471</td>\n",
       "    </tr>\n",
       "    <tr>\n",
       "      <th>7997</th>\n",
       "      <td>5860</td>\n",
       "      <td>0</td>\n",
       "      <td>0.055937</td>\n",
       "      <td>0.767501</td>\n",
       "      <td>0.090850</td>\n",
       "      <td>2.141473</td>\n",
       "      <td>-0.599212</td>\n",
       "      <td>-1.336953</td>\n",
       "      <td>0.303780</td>\n",
       "      <td>0.583323</td>\n",
       "      <td>-0.768976</td>\n",
       "      <td>0.960491</td>\n",
       "    </tr>\n",
       "    <tr>\n",
       "      <th>7998</th>\n",
       "      <td>5684</td>\n",
       "      <td>0</td>\n",
       "      <td>0.245012</td>\n",
       "      <td>-0.621496</td>\n",
       "      <td>-1.986395</td>\n",
       "      <td>0.037237</td>\n",
       "      <td>0.024650</td>\n",
       "      <td>-0.314851</td>\n",
       "      <td>-0.620767</td>\n",
       "      <td>-0.273870</td>\n",
       "      <td>-1.319686</td>\n",
       "      <td>1.778506</td>\n",
       "    </tr>\n",
       "    <tr>\n",
       "      <th>7999</th>\n",
       "      <td>1980</td>\n",
       "      <td>0</td>\n",
       "      <td>0.119101</td>\n",
       "      <td>-1.799156</td>\n",
       "      <td>0.050505</td>\n",
       "      <td>-0.006119</td>\n",
       "      <td>0.403345</td>\n",
       "      <td>0.862286</td>\n",
       "      <td>1.047588</td>\n",
       "      <td>-1.610043</td>\n",
       "      <td>-0.058206</td>\n",
       "      <td>2.010941</td>\n",
       "    </tr>\n",
       "  </tbody>\n",
       "</table>\n",
       "<p>8000 rows × 12 columns</p>\n",
       "</div>"
      ],
      "text/plain": [
       "      sales_id  flag_fraud  rule_10_l3  rule_1_l3  rule_2_l3  rule_3_l3  \\\n",
       "0         3630           0   -0.234773   1.747087  -0.092075   0.487540   \n",
       "1         5986           0    1.327322   0.506857  -0.779419   0.070295   \n",
       "2         7036           0    0.363375  -0.785461   2.390482  -0.646937   \n",
       "3          628           0   -0.483484   0.326381   1.361037   0.038895   \n",
       "4         6352           0   -0.107302   0.829223  -0.073166   0.387465   \n",
       "...        ...         ...         ...        ...        ...        ...   \n",
       "7995      9252           0   -1.774210  -0.032849   0.705536  -0.446116   \n",
       "7996      5428           0   -1.243773  -1.069535  -0.434893  -0.511010   \n",
       "7997      5860           0    0.055937   0.767501   0.090850   2.141473   \n",
       "7998      5684           0    0.245012  -0.621496  -1.986395   0.037237   \n",
       "7999      1980           0    0.119101  -1.799156   0.050505  -0.006119   \n",
       "\n",
       "      rule_4_l3  rule_5_l3  rule_6_l3  rule_7_l3  rule_8_l3  rule_9_l3  \n",
       "0      0.031593  -0.307526  -0.024198   0.769346  -0.053467  -0.160935  \n",
       "1     -0.504043  -0.643050   0.472607  -0.935056   0.520798   0.309667  \n",
       "2     -0.624096  -0.985203   0.881314  -0.278975   0.813936   1.154796  \n",
       "3      0.211381   1.182895  -1.544455   0.520176  -0.011590   0.566057  \n",
       "4     -1.018486  -1.000645  -0.381408   0.358372  -0.777887   1.069188  \n",
       "...         ...        ...        ...        ...        ...        ...  \n",
       "7995  -1.258364   0.065479  -1.865180   2.542054   1.045306   0.319269  \n",
       "7996   1.220962  -0.214250  -0.373091   1.128805   1.349662  -0.831471  \n",
       "7997  -0.599212  -1.336953   0.303780   0.583323  -0.768976   0.960491  \n",
       "7998   0.024650  -0.314851  -0.620767  -0.273870  -1.319686   1.778506  \n",
       "7999   0.403345   0.862286   1.047588  -1.610043  -0.058206   2.010941  \n",
       "\n",
       "[8000 rows x 12 columns]"
      ]
     },
     "execution_count": 9,
     "metadata": {},
     "output_type": "execute_result"
    }
   ],
   "source": [
    "train_all_df"
   ]
  },
  {
   "cell_type": "code",
   "execution_count": 10,
   "id": "f8963739-226c-4941-ba11-f7502f1c5746",
   "metadata": {},
   "outputs": [
    {
     "data": {
      "text/plain": [
       "flag_fraud\n",
       "0    7621\n",
       "1     379\n",
       "Name: count, dtype: int64"
      ]
     },
     "execution_count": 10,
     "metadata": {},
     "output_type": "execute_result"
    }
   ],
   "source": [
    "train_all_df['flag_fraud'].value_counts()"
   ]
  },
  {
   "cell_type": "code",
   "execution_count": 11,
   "id": "692cf80e-07a5-4602-95a9-d5aa58fe30b5",
   "metadata": {},
   "outputs": [
    {
     "data": {
      "text/plain": [
       "flag_fraud\n",
       "0    0.952625\n",
       "1    0.047375\n",
       "Name: proportion, dtype: float64"
      ]
     },
     "execution_count": 11,
     "metadata": {},
     "output_type": "execute_result"
    }
   ],
   "source": [
    "train_all_df['flag_fraud'].value_counts(normalize=True)"
   ]
  },
  {
   "cell_type": "code",
   "execution_count": 12,
   "id": "7cefc400-e53a-4a5e-9212-d0388883eeab",
   "metadata": {},
   "outputs": [
    {
     "data": {
      "text/html": [
       "<div>\n",
       "<style scoped>\n",
       "    .dataframe tbody tr th:only-of-type {\n",
       "        vertical-align: middle;\n",
       "    }\n",
       "\n",
       "    .dataframe tbody tr th {\n",
       "        vertical-align: top;\n",
       "    }\n",
       "\n",
       "    .dataframe thead th {\n",
       "        text-align: right;\n",
       "    }\n",
       "</style>\n",
       "<table border=\"1\" class=\"dataframe\">\n",
       "  <thead>\n",
       "    <tr style=\"text-align: right;\">\n",
       "      <th></th>\n",
       "      <th>sales_id</th>\n",
       "      <th>flag_fraud</th>\n",
       "      <th>rule_10_l3</th>\n",
       "      <th>rule_1_l3</th>\n",
       "      <th>rule_2_l3</th>\n",
       "      <th>rule_3_l3</th>\n",
       "      <th>rule_4_l3</th>\n",
       "      <th>rule_5_l3</th>\n",
       "      <th>rule_6_l3</th>\n",
       "      <th>rule_7_l3</th>\n",
       "      <th>rule_8_l3</th>\n",
       "      <th>rule_9_l3</th>\n",
       "    </tr>\n",
       "  </thead>\n",
       "  <tbody>\n",
       "    <tr>\n",
       "      <th>0</th>\n",
       "      <td>8751</td>\n",
       "      <td>0</td>\n",
       "      <td>-0.014066</td>\n",
       "      <td>-1.393845</td>\n",
       "      <td>-0.549546</td>\n",
       "      <td>0.717000</td>\n",
       "      <td>0.399731</td>\n",
       "      <td>0.284135</td>\n",
       "      <td>1.534209</td>\n",
       "      <td>0.150712</td>\n",
       "      <td>0.145437</td>\n",
       "      <td>1.170655</td>\n",
       "    </tr>\n",
       "    <tr>\n",
       "      <th>1</th>\n",
       "      <td>3108</td>\n",
       "      <td>0</td>\n",
       "      <td>-0.407000</td>\n",
       "      <td>-0.902097</td>\n",
       "      <td>-0.201197</td>\n",
       "      <td>-0.692537</td>\n",
       "      <td>-0.932545</td>\n",
       "      <td>0.674499</td>\n",
       "      <td>1.033911</td>\n",
       "      <td>0.509996</td>\n",
       "      <td>-0.438105</td>\n",
       "      <td>-0.662554</td>\n",
       "    </tr>\n",
       "    <tr>\n",
       "      <th>2</th>\n",
       "      <td>7395</td>\n",
       "      <td>0</td>\n",
       "      <td>-0.379389</td>\n",
       "      <td>-0.136750</td>\n",
       "      <td>1.156046</td>\n",
       "      <td>-0.540447</td>\n",
       "      <td>0.111782</td>\n",
       "      <td>0.335219</td>\n",
       "      <td>0.705519</td>\n",
       "      <td>0.472408</td>\n",
       "      <td>0.395685</td>\n",
       "      <td>-0.477659</td>\n",
       "    </tr>\n",
       "    <tr>\n",
       "      <th>3</th>\n",
       "      <td>1373</td>\n",
       "      <td>0</td>\n",
       "      <td>-0.169135</td>\n",
       "      <td>-1.773354</td>\n",
       "      <td>1.291998</td>\n",
       "      <td>-0.447097</td>\n",
       "      <td>1.554840</td>\n",
       "      <td>0.196109</td>\n",
       "      <td>2.025284</td>\n",
       "      <td>0.606322</td>\n",
       "      <td>-1.432020</td>\n",
       "      <td>-0.614415</td>\n",
       "    </tr>\n",
       "    <tr>\n",
       "      <th>4</th>\n",
       "      <td>1858</td>\n",
       "      <td>0</td>\n",
       "      <td>-0.294788</td>\n",
       "      <td>0.087962</td>\n",
       "      <td>-0.316080</td>\n",
       "      <td>1.132134</td>\n",
       "      <td>-0.878668</td>\n",
       "      <td>-1.731316</td>\n",
       "      <td>-1.357284</td>\n",
       "      <td>0.994168</td>\n",
       "      <td>-0.969557</td>\n",
       "      <td>0.397844</td>\n",
       "    </tr>\n",
       "    <tr>\n",
       "      <th>...</th>\n",
       "      <td>...</td>\n",
       "      <td>...</td>\n",
       "      <td>...</td>\n",
       "      <td>...</td>\n",
       "      <td>...</td>\n",
       "      <td>...</td>\n",
       "      <td>...</td>\n",
       "      <td>...</td>\n",
       "      <td>...</td>\n",
       "      <td>...</td>\n",
       "      <td>...</td>\n",
       "      <td>...</td>\n",
       "    </tr>\n",
       "    <tr>\n",
       "      <th>1995</th>\n",
       "      <td>3178</td>\n",
       "      <td>0</td>\n",
       "      <td>0.988216</td>\n",
       "      <td>0.597874</td>\n",
       "      <td>-1.548680</td>\n",
       "      <td>-0.699116</td>\n",
       "      <td>0.820012</td>\n",
       "      <td>0.831763</td>\n",
       "      <td>1.175272</td>\n",
       "      <td>-2.019722</td>\n",
       "      <td>0.296013</td>\n",
       "      <td>-0.257685</td>\n",
       "    </tr>\n",
       "    <tr>\n",
       "      <th>1996</th>\n",
       "      <td>9980</td>\n",
       "      <td>0</td>\n",
       "      <td>0.051826</td>\n",
       "      <td>0.232610</td>\n",
       "      <td>-0.141040</td>\n",
       "      <td>-0.958353</td>\n",
       "      <td>0.670028</td>\n",
       "      <td>-0.126161</td>\n",
       "      <td>0.865351</td>\n",
       "      <td>-0.671043</td>\n",
       "      <td>-0.842563</td>\n",
       "      <td>0.100661</td>\n",
       "    </tr>\n",
       "    <tr>\n",
       "      <th>1997</th>\n",
       "      <td>1440</td>\n",
       "      <td>1</td>\n",
       "      <td>1.460228</td>\n",
       "      <td>3.279685</td>\n",
       "      <td>2.484863</td>\n",
       "      <td>4.937438</td>\n",
       "      <td>0.862143</td>\n",
       "      <td>1.526850</td>\n",
       "      <td>2.337857</td>\n",
       "      <td>3.426782</td>\n",
       "      <td>2.285128</td>\n",
       "      <td>2.291597</td>\n",
       "    </tr>\n",
       "    <tr>\n",
       "      <th>1998</th>\n",
       "      <td>8684</td>\n",
       "      <td>0</td>\n",
       "      <td>-0.374381</td>\n",
       "      <td>0.848555</td>\n",
       "      <td>-0.475394</td>\n",
       "      <td>-0.760063</td>\n",
       "      <td>2.249280</td>\n",
       "      <td>-0.196480</td>\n",
       "      <td>0.666618</td>\n",
       "      <td>-0.119712</td>\n",
       "      <td>-0.185424</td>\n",
       "      <td>1.258852</td>\n",
       "    </tr>\n",
       "    <tr>\n",
       "      <th>1999</th>\n",
       "      <td>3563</td>\n",
       "      <td>0</td>\n",
       "      <td>1.215724</td>\n",
       "      <td>-1.176729</td>\n",
       "      <td>-1.690507</td>\n",
       "      <td>-0.614771</td>\n",
       "      <td>0.811561</td>\n",
       "      <td>1.152456</td>\n",
       "      <td>0.181398</td>\n",
       "      <td>0.080031</td>\n",
       "      <td>-0.332046</td>\n",
       "      <td>-0.021355</td>\n",
       "    </tr>\n",
       "  </tbody>\n",
       "</table>\n",
       "<p>2000 rows × 12 columns</p>\n",
       "</div>"
      ],
      "text/plain": [
       "      sales_id  flag_fraud  rule_10_l3  rule_1_l3  rule_2_l3  rule_3_l3  \\\n",
       "0         8751           0   -0.014066  -1.393845  -0.549546   0.717000   \n",
       "1         3108           0   -0.407000  -0.902097  -0.201197  -0.692537   \n",
       "2         7395           0   -0.379389  -0.136750   1.156046  -0.540447   \n",
       "3         1373           0   -0.169135  -1.773354   1.291998  -0.447097   \n",
       "4         1858           0   -0.294788   0.087962  -0.316080   1.132134   \n",
       "...        ...         ...         ...        ...        ...        ...   \n",
       "1995      3178           0    0.988216   0.597874  -1.548680  -0.699116   \n",
       "1996      9980           0    0.051826   0.232610  -0.141040  -0.958353   \n",
       "1997      1440           1    1.460228   3.279685   2.484863   4.937438   \n",
       "1998      8684           0   -0.374381   0.848555  -0.475394  -0.760063   \n",
       "1999      3563           0    1.215724  -1.176729  -1.690507  -0.614771   \n",
       "\n",
       "      rule_4_l3  rule_5_l3  rule_6_l3  rule_7_l3  rule_8_l3  rule_9_l3  \n",
       "0      0.399731   0.284135   1.534209   0.150712   0.145437   1.170655  \n",
       "1     -0.932545   0.674499   1.033911   0.509996  -0.438105  -0.662554  \n",
       "2      0.111782   0.335219   0.705519   0.472408   0.395685  -0.477659  \n",
       "3      1.554840   0.196109   2.025284   0.606322  -1.432020  -0.614415  \n",
       "4     -0.878668  -1.731316  -1.357284   0.994168  -0.969557   0.397844  \n",
       "...         ...        ...        ...        ...        ...        ...  \n",
       "1995   0.820012   0.831763   1.175272  -2.019722   0.296013  -0.257685  \n",
       "1996   0.670028  -0.126161   0.865351  -0.671043  -0.842563   0.100661  \n",
       "1997   0.862143   1.526850   2.337857   3.426782   2.285128   2.291597  \n",
       "1998   2.249280  -0.196480   0.666618  -0.119712  -0.185424   1.258852  \n",
       "1999   0.811561   1.152456   0.181398   0.080031  -0.332046  -0.021355  \n",
       "\n",
       "[2000 rows x 12 columns]"
      ]
     },
     "execution_count": 12,
     "metadata": {},
     "output_type": "execute_result"
    }
   ],
   "source": [
    "test_df"
   ]
  },
  {
   "cell_type": "code",
   "execution_count": 13,
   "id": "2d20394c-68ab-43e3-b926-295ed17d7eee",
   "metadata": {},
   "outputs": [
    {
     "data": {
      "text/plain": [
       "flag_fraud\n",
       "0    1905\n",
       "1      95\n",
       "Name: count, dtype: int64"
      ]
     },
     "execution_count": 13,
     "metadata": {},
     "output_type": "execute_result"
    }
   ],
   "source": [
    "test_df['flag_fraud'].value_counts()"
   ]
  },
  {
   "cell_type": "code",
   "execution_count": 14,
   "id": "62d60111-8970-455c-a781-c0c149e78321",
   "metadata": {},
   "outputs": [
    {
     "data": {
      "text/plain": [
       "flag_fraud\n",
       "0    0.9525\n",
       "1    0.0475\n",
       "Name: proportion, dtype: float64"
      ]
     },
     "execution_count": 14,
     "metadata": {},
     "output_type": "execute_result"
    }
   ],
   "source": [
    "test_df['flag_fraud'].value_counts(normalize=True)"
   ]
  },
  {
   "cell_type": "code",
   "execution_count": 15,
   "id": "00c80989-5b46-46ca-bed5-7d7ef45c2b2d",
   "metadata": {},
   "outputs": [
    {
     "name": "stdout",
     "output_type": "stream",
     "text": [
      "function: prepare_train_val_test_data is starting...\n",
      "function: prepare_train_val_test_data successfully executed at 0.005841493606567383s\n"
     ]
    }
   ],
   "source": [
    "X_train, X_val, X_test, y_test = prepare_train_val_test_data(train_all_df, test_df)"
   ]
  },
  {
   "cell_type": "code",
   "execution_count": 16,
   "id": "b45c567a-1577-4907-a1e0-9a303de58e2c",
   "metadata": {},
   "outputs": [
    {
     "data": {
      "text/plain": [
       "(6096, 10)"
      ]
     },
     "execution_count": 16,
     "metadata": {},
     "output_type": "execute_result"
    }
   ],
   "source": [
    "X_train.shape # Train on non-fraud only"
   ]
  },
  {
   "cell_type": "code",
   "execution_count": 17,
   "id": "d1bb52b8-f602-4143-8a77-fa1ca6b377f2",
   "metadata": {},
   "outputs": [
    {
     "data": {
      "text/plain": [
       "(1525, 10)"
      ]
     },
     "execution_count": 17,
     "metadata": {},
     "output_type": "execute_result"
    }
   ],
   "source": [
    "X_val.shape # val non-fraud only (sep from train)"
   ]
  },
  {
   "cell_type": "code",
   "execution_count": 18,
   "id": "d985982c-540e-4e3c-96c8-376e0206bf5e",
   "metadata": {},
   "outputs": [
    {
     "data": {
      "text/plain": [
       "(2000, 10)"
      ]
     },
     "execution_count": 18,
     "metadata": {},
     "output_type": "execute_result"
    }
   ],
   "source": [
    "X_test.shape # Test on all agent, even if it contains fraud, because you’re looking at the reconstruction error to flag anomalies"
   ]
  },
  {
   "cell_type": "code",
   "execution_count": 19,
   "id": "59d502ba-0804-465e-9b09-3710dc7e4960",
   "metadata": {},
   "outputs": [
    {
     "data": {
      "text/plain": [
       "(2000,)"
      ]
     },
     "execution_count": 19,
     "metadata": {},
     "output_type": "execute_result"
    }
   ],
   "source": [
    "y_test.shape"
   ]
  },
  {
   "cell_type": "markdown",
   "id": "de09cd86-7fca-4e13-a35a-4de030a5a06b",
   "metadata": {},
   "source": [
    "### defining the architecture of the autoencoder\n",
    "- Building the layers (nn.Linear, nn.ReLU, etc.)\n",
    "- Structuring the encoder and decoder using nn.Sequential\n",
    "- Defining the forward() function for how data flows through the network\n",
    "  <br><br>\n",
    "**But this does not train anything yet.**"
   ]
  },
  {
   "cell_type": "code",
   "execution_count": 20,
   "id": "c3763966-f1c0-4017-b1eb-a2f2f7b09265",
   "metadata": {},
   "outputs": [
    {
     "data": {
      "text/plain": [
       "10"
      ]
     },
     "execution_count": 20,
     "metadata": {},
     "output_type": "execute_result"
    }
   ],
   "source": [
    "X_train.shape[1] # จำนวน features"
   ]
  },
  {
   "cell_type": "code",
   "execution_count": 21,
   "id": "a67cffd1-b245-4460-b19c-5b805ad0f1fb",
   "metadata": {},
   "outputs": [
    {
     "name": "stdout",
     "output_type": "stream",
     "text": [
      "Input: torch.Size([5, 10])\n",
      "Encoder layer 0: torch.Size([5, 6])\n",
      "Encoder layer 1: torch.Size([5, 6])\n",
      "Encoder layer 2: torch.Size([5, 4])\n",
      "Encoder layer 3: torch.Size([5, 4])\n",
      "Encoder layer 4: torch.Size([5, 3])\n",
      "Latent space: torch.Size([5, 3])\n",
      "Decoder layer 0: torch.Size([5, 4])\n",
      "Decoder layer 1: torch.Size([5, 4])\n",
      "Decoder layer 2: torch.Size([5, 6])\n",
      "Decoder layer 3: torch.Size([5, 6])\n",
      "Decoder layer 4: torch.Size([5, 10])\n",
      "Output: torch.Size([5, 10])\n"
     ]
    }
   ],
   "source": [
    "set_seed(42)\n",
    "model_test = Autoencoder(input_dim=X_train.shape[1], encoding_dim=3, hidden_layers=[6, 4],verbose=True)\n",
    "\n",
    "# This is only used for testing the model architecture, not training or evaluating on real data.\n",
    "x = torch.randn(5, X_train.shape[1]) \n",
    "output = model_test(x)"
   ]
  },
  {
   "cell_type": "code",
   "execution_count": 22,
   "id": "b7b02649-5590-4cab-a617-05c8336364aa",
   "metadata": {
    "scrolled": true
   },
   "outputs": [
    {
     "data": {
      "text/plain": [
       "tensor([[ 0.6478, -0.0272,  0.0387,  0.2780, -0.0180, -0.2639,  0.3674,  0.0223,\n",
       "         -0.1578, -0.3743],\n",
       "        [ 0.6395, -0.0260,  0.0344,  0.2788, -0.0222, -0.2659,  0.3624,  0.0165,\n",
       "         -0.1559, -0.3785],\n",
       "        [ 0.6344, -0.0253,  0.0318,  0.2793, -0.0248, -0.2672,  0.3593,  0.0130,\n",
       "         -0.1548, -0.3811],\n",
       "        [ 0.6336, -0.0252,  0.0314,  0.2794, -0.0252, -0.2674,  0.3589,  0.0125,\n",
       "         -0.1546, -0.3815],\n",
       "        [ 0.6464, -0.0270,  0.0380,  0.2781, -0.0187, -0.2642,  0.3666,  0.0213,\n",
       "         -0.1575, -0.3750]], grad_fn=<AddmmBackward0>)"
      ]
     },
     "execution_count": 22,
     "metadata": {},
     "output_type": "execute_result"
    }
   ],
   "source": [
    "output"
   ]
  },
  {
   "cell_type": "markdown",
   "id": "23e3aa56-de77-4ec2-9703-b6931318ff3e",
   "metadata": {},
   "source": [
    "#### train model to learn normal pattern\n",
    "It trains an Autoencoder model to reconstruct its input, using mean squared error (MSE) as the loss. \n",
    "This lets the model learn the “normal pattern” of your data which you'll later use to detect anomalies."
   ]
  },
  {
   "cell_type": "markdown",
   "id": "6f5658f8-2e82-4640-9726-c7ccf2331cc8",
   "metadata": {},
   "source": [
    "#### loss  function and optimizer"
   ]
  },
  {
   "cell_type": "markdown",
   "id": "be5bdec7-4162-4c93-9100-79abc752f418",
   "metadata": {},
   "source": [
    "https://docs.pytorch.org/docs/stable/nn.html#loss-functions"
   ]
  },
  {
   "cell_type": "markdown",
   "id": "655fb4d5-a016-407c-8fdb-1cbbeca10168",
   "metadata": {},
   "source": [
    "| Loss Function                                   | When to Use / Pros                                                                                      |\n",
    "| ----------------------------------------------- | ------------------------------------------------------------------------------------------------------- |\n",
    "| **Mean Absolute Error (MAE)** (`nn.L1Loss()`)   | Less sensitive to outliers than MSE; good if you want robustness to large errors.                       |\n",
    "| **Binary Cross-Entropy (BCE)** (`nn.BCELoss()`) | Use if input features are binary or normalized between 0 and 1. Often used in Variational Autoencoders. |\n",
    "| **Huber Loss** (`torch.nn.SmoothL1Loss`)        | Combines benefits of MSE and MAE; less sensitive to outliers than MSE.                                  |\n",
    "| **Custom Loss**                                 | You can define custom losses, e.g., weighted reconstruction errors or perceptual losses for images.     |\n"
   ]
  },
  {
   "cell_type": "markdown",
   "id": "18f15a6d-d8f8-4d45-9faf-844e8e3127fe",
   "metadata": {},
   "source": [
    "https://docs.pytorch.org/docs/stable/optim.html"
   ]
  },
  {
   "cell_type": "markdown",
   "id": "f93d4f7c-1f36-4b15-9dde-5e6fca19c2d9",
   "metadata": {},
   "source": [
    "| Optimizer                     | Description / When to Use                                                             |\n",
    "| ----------------------------- | ------------------------------------------------------------------------------------- |\n",
    "| **SGD** (`optim.SGD`)         | Classic stochastic gradient descent; slower but sometimes better generalization.      |\n",
    "| **RMSProp** (`optim.RMSprop`) | Good for recurrent networks and non-stationary objectives; adapts learning rate.      |\n",
    "| **AdamW** (`optim.AdamW`)     | Variant of Adam with better weight decay handling; often improves regularization.     |\n",
    "| **Adagrad** (`optim.Adagrad`) | Adapts learning rate based on frequency of parameter updates; useful for sparse data. |\n"
   ]
  },
  {
   "cell_type": "code",
   "execution_count": 23,
   "id": "a3343661-ce12-49f0-98f9-023e6653a798",
   "metadata": {
    "scrolled": true
   },
   "outputs": [
    {
     "name": "stdout",
     "output_type": "stream",
     "text": [
      "function: train_autoencoder is starting...\n",
      "Epoch [1/50] - Train Loss: 1.0538, Val Loss: 1.0388\n",
      "Epoch [2/50] - Train Loss: 0.9924, Val Loss: 0.9658\n",
      "Epoch [3/50] - Train Loss: 0.9323, Val Loss: 0.9203\n",
      "Epoch [4/50] - Train Loss: 0.8734, Val Loss: 0.8584\n",
      "Epoch [5/50] - Train Loss: 0.8350, Val Loss: 0.8394\n",
      "Epoch [6/50] - Train Loss: 0.8212, Val Loss: 0.8303\n",
      "Epoch [7/50] - Train Loss: 0.8134, Val Loss: 0.8250\n",
      "Epoch [8/50] - Train Loss: 0.8088, Val Loss: 0.8220\n",
      "Epoch [9/50] - Train Loss: 0.8036, Val Loss: 0.8184\n",
      "Epoch [10/50] - Train Loss: 0.7980, Val Loss: 0.8138\n",
      "Epoch [11/50] - Train Loss: 0.7905, Val Loss: 0.8064\n",
      "Epoch [12/50] - Train Loss: 0.7860, Val Loss: 0.8045\n",
      "Epoch [13/50] - Train Loss: 0.7807, Val Loss: 0.8043\n",
      "Epoch [14/50] - Train Loss: 0.7796, Val Loss: 0.8020\n",
      "Epoch [15/50] - Train Loss: 0.7765, Val Loss: 0.7982\n",
      "Epoch [16/50] - Train Loss: 0.7705, Val Loss: 0.7874\n",
      "Epoch [17/50] - Train Loss: 0.7514, Val Loss: 0.7512\n",
      "Epoch [18/50] - Train Loss: 0.7135, Val Loss: 0.7211\n",
      "Epoch [19/50] - Train Loss: 0.6962, Val Loss: 0.7105\n",
      "Epoch [20/50] - Train Loss: 0.6855, Val Loss: 0.7038\n",
      "Epoch [21/50] - Train Loss: 0.6789, Val Loss: 0.7004\n",
      "Epoch [22/50] - Train Loss: 0.6765, Val Loss: 0.6979\n",
      "Epoch [23/50] - Train Loss: 0.6733, Val Loss: 0.6982\n",
      "Epoch [24/50] - Train Loss: 0.6722, Val Loss: 0.6964\n",
      "Epoch [25/50] - Train Loss: 0.6713, Val Loss: 0.6956\n",
      "Epoch [26/50] - Train Loss: 0.6696, Val Loss: 0.6936\n",
      "Epoch [27/50] - Train Loss: 0.6670, Val Loss: 0.6941\n",
      "Epoch [28/50] - Train Loss: 0.6677, Val Loss: 0.6918\n",
      "Epoch [29/50] - Train Loss: 0.6646, Val Loss: 0.6918\n",
      "Epoch [30/50] - Train Loss: 0.6646, Val Loss: 0.6911\n",
      "Epoch [31/50] - Train Loss: 0.6631, Val Loss: 0.6895\n",
      "Epoch [32/50] - Train Loss: 0.6623, Val Loss: 0.6893\n",
      "Epoch [33/50] - Train Loss: 0.6619, Val Loss: 0.6897\n",
      "Epoch [34/50] - Train Loss: 0.6608, Val Loss: 0.6879\n",
      "Epoch [35/50] - Train Loss: 0.6582, Val Loss: 0.6870\n",
      "Epoch [36/50] - Train Loss: 0.6572, Val Loss: 0.6866\n",
      "Epoch [37/50] - Train Loss: 0.6560, Val Loss: 0.6847\n",
      "Epoch [38/50] - Train Loss: 0.6565, Val Loss: 0.6838\n",
      "Epoch [39/50] - Train Loss: 0.6557, Val Loss: 0.6858\n",
      "Epoch [40/50] - Train Loss: 0.6543, Val Loss: 0.6831\n",
      "Epoch [41/50] - Train Loss: 0.6537, Val Loss: 0.6833\n",
      "Epoch [42/50] - Train Loss: 0.6540, Val Loss: 0.6817\n",
      "Epoch [43/50] - Train Loss: 0.6511, Val Loss: 0.6817\n",
      "Epoch [44/50] - Train Loss: 0.6510, Val Loss: 0.6788\n",
      "Epoch [45/50] - Train Loss: 0.6524, Val Loss: 0.6792\n",
      "Epoch [46/50] - Train Loss: 0.6495, Val Loss: 0.6782\n",
      "Epoch [47/50] - Train Loss: 0.6503, Val Loss: 0.6783\n",
      "Epoch [48/50] - Train Loss: 0.6494, Val Loss: 0.6777\n",
      "Epoch [49/50] - Train Loss: 0.6492, Val Loss: 0.6778\n",
      "Epoch [50/50] - Train Loss: 0.6473, Val Loss: 0.6770\n",
      "function: train_autoencoder successfully executed at 11.797207355499268s\n"
     ]
    }
   ],
   "source": [
    "set_seed(42)\n",
    "\n",
    "model = Autoencoder(input_dim=X_train.shape[1], encoding_dim=3, hidden_layers=[6, 4],verbose=False)\n",
    "trained_model , train_losses, val_losses= train_autoencoder(model=model, \n",
    "                                                            X_train=X_train,\n",
    "                                                            X_val = X_val, \n",
    "                                                            epochs=50, \n",
    "                                                            batch_size=64)"
   ]
  },
  {
   "cell_type": "code",
   "execution_count": 24,
   "id": "294567e8-44ed-4c61-965e-7f9e75083bd0",
   "metadata": {},
   "outputs": [
    {
     "data": {
      "text/plain": [
       "Autoencoder(\n",
       "  (encoder): Sequential(\n",
       "    (0): Linear(in_features=10, out_features=6, bias=True)\n",
       "    (1): ReLU()\n",
       "    (2): Linear(in_features=6, out_features=4, bias=True)\n",
       "    (3): ReLU()\n",
       "    (4): Linear(in_features=4, out_features=3, bias=True)\n",
       "  )\n",
       "  (decoder): Sequential(\n",
       "    (0): Linear(in_features=3, out_features=4, bias=True)\n",
       "    (1): ReLU()\n",
       "    (2): Linear(in_features=4, out_features=6, bias=True)\n",
       "    (3): ReLU()\n",
       "    (4): Linear(in_features=6, out_features=10, bias=True)\n",
       "  )\n",
       ")"
      ]
     },
     "execution_count": 24,
     "metadata": {},
     "output_type": "execute_result"
    }
   ],
   "source": [
    "trained_model"
   ]
  },
  {
   "cell_type": "markdown",
   "id": "7965716d-9d0d-4763-8d3b-819ac4b71ed8",
   "metadata": {},
   "source": [
    "What the graph shows:\n",
    "- X-axis: Epochs (how many times the model has seen the training data)\n",
    "- Y-axis: Loss (how well the model reconstructs input — lower is better)\n",
    "\n",
    "There are two curves:\n",
    "- Training Loss: Error on the training data the model learned from\n",
    "- Validation Loss: Error on unseen data (validation set)\n",
    "\n",
    "Goal: Both losses should decrease and stay close to each other.\n",
    "\n",
    "If validation loss starts increasing while training loss decreases, it’s a sign to stop training or apply techniques to reduce overfitting."
   ]
  },
  {
   "cell_type": "code",
   "execution_count": 25,
   "id": "e4d22308-e10b-4203-9da1-bfb8236545eb",
   "metadata": {
    "scrolled": true
   },
   "outputs": [
    {
     "name": "stdout",
     "output_type": "stream",
     "text": [
      "function: plot_learning_curve is starting...\n"
     ]
    },
    {
     "data": {
      "image/png": "[encoded data removed]",
      "text/plain": [
       "<Figure size 800x500 with 1 Axes>"
      ]
     },
     "metadata": {},
     "output_type": "display_data"
    },
    {
     "name": "stdout",
     "output_type": "stream",
     "text": [
      "function: plot_learning_curve successfully executed at 0.26158595085144043s\n"
     ]
    }
   ],
   "source": [
    "plot_learning_curve(train_losses, val_losses)"
   ]
  },
  {
   "cell_type": "markdown",
   "id": "a8470950-c677-4cec-912b-2fd04e8849ae",
   "metadata": {},
   "source": [
    "### Grid search"
   ]
  },
  {
   "cell_type": "markdown",
   "id": "35028c2c-d592-41da-8b5c-afeb40c49809",
   "metadata": {},
   "source": [
    "| Parameter      | What it controls                  | Why tune it?                         |\n",
    "| -------------- | --------------------------------- | ------------------------------------ |\n",
    "| encoding\\_dim  | Size of compressed representation | Balance between detail & compression |\n",
    "| hidden\\_layers | Number & size of layers in model  | Model complexity & learning power    |\n",
    "| activation     | Function deciding neuron output   | How model learns patterns            |\n",
    "| batch\\_size    | Number of samples per update      | Stability & speed of training        |\n",
    "| lr             | Step size for weight updates      | Training speed & convergence         |\n"
   ]
  },
  {
   "cell_type": "code",
   "execution_count": 26,
   "id": "5009845a-de28-4c26-b77c-75a49e18aa3e",
   "metadata": {},
   "outputs": [],
   "source": [
    "param_grid = {\n",
    "    \"encoding_dim\": [2, 3, 4],\n",
    "    \"hidden_layers\": [[8], [8, 4], [16, 8]],\n",
    "    \"activation\": [nn.ReLU, nn.Tanh],\n",
    "    \"batch_size\": [32, 64],\n",
    "    \"lr\": [1e-3, 5e-4]\n",
    "}\n",
    "\n",
    "## รันนานมาก ขอคอมมเม้นไว้ก่อน\n",
    "# best_model, best_config, best_val_loss = tune_autoencoder_grid(\n",
    "#     X_train=X_train,    # your normal train data (numpy or pd.DataFrame)\n",
    "#     X_val=X_val,        # your normal validation data (numpy or pd.DataFrame)\n",
    "#     param_grid=param_grid,\n",
    "#     epochs=50,\n",
    "#     verbose=True\n",
    "# )\n",
    "\n",
    "# print(\"Best config found:\", best_config)"
   ]
  },
  {
   "cell_type": "markdown",
   "id": "f38b9162-b8bb-4537-a6cb-610f6e8e0926",
   "metadata": {},
   "source": [
    "### Predict and Test Performance"
   ]
  },
  {
   "cell_type": "markdown",
   "id": "fbf1b0ac-9feb-4a68-9b98-78592791da99",
   "metadata": {},
   "source": [
    "- หลังจากได้โมเดล เราลองใส่ X_test เข้าไปเพื่อให้ได้  y_predict\n",
    "- แล้วทดสอบผลกับ y_test"
   ]
  },
  {
   "cell_type": "code",
   "execution_count": 27,
   "id": "b213a20a-02db-4f44-9f2e-17b8263cce44",
   "metadata": {},
   "outputs": [
    {
     "data": {
      "text/plain": [
       "Autoencoder(\n",
       "  (encoder): Sequential(\n",
       "    (0): Linear(in_features=10, out_features=6, bias=True)\n",
       "    (1): ReLU()\n",
       "    (2): Linear(in_features=6, out_features=4, bias=True)\n",
       "    (3): ReLU()\n",
       "    (4): Linear(in_features=4, out_features=3, bias=True)\n",
       "  )\n",
       "  (decoder): Sequential(\n",
       "    (0): Linear(in_features=3, out_features=4, bias=True)\n",
       "    (1): ReLU()\n",
       "    (2): Linear(in_features=4, out_features=6, bias=True)\n",
       "    (3): ReLU()\n",
       "    (4): Linear(in_features=6, out_features=10, bias=True)\n",
       "  )\n",
       ")"
      ]
     },
     "execution_count": 27,
     "metadata": {},
     "output_type": "execute_result"
    }
   ],
   "source": [
    "trained_model"
   ]
  },
  {
   "cell_type": "code",
   "execution_count": 28,
   "id": "255e8eb1-d3fd-4880-88a4-846b2311cb36",
   "metadata": {},
   "outputs": [
    {
     "name": "stdout",
     "output_type": "stream",
     "text": [
      "function: get_reconstruction_error is starting...\n",
      "function: get_reconstruction_error successfully executed at 0.0019500255584716797s\n"
     ]
    },
    {
     "data": {
      "text/plain": [
       "array([0.25404861, 0.38153313, 0.22160521, ..., 3.67322559, 0.36781553,\n",
       "       0.5722689 ], shape=(2000,))"
      ]
     },
     "execution_count": 28,
     "metadata": {},
     "output_type": "execute_result"
    }
   ],
   "source": [
    "# 1. Compute reconstruction error\n",
    "recon_error = get_reconstruction_error(trained_model, X_test)\n",
    "recon_error"
   ]
  },
  {
   "cell_type": "code",
   "execution_count": 29,
   "id": "19241740-aad5-4dbd-845b-998b4bb7f648",
   "metadata": {},
   "outputs": [
    {
     "name": "stdout",
     "output_type": "stream",
     "text": [
      "function: plot_threshold_vs_metric_percentile is starting...\n"
     ]
    },
    {
     "data": {
      "image/png": "[encoded data removed]",
      "text/plain": [
       "<Figure size 1000x600 with 2 Axes>"
      ]
     },
     "metadata": {},
     "output_type": "display_data"
    },
    {
     "name": "stdout",
     "output_type": "stream",
     "text": [
      "function: plot_threshold_vs_metric_percentile successfully executed at 0.4930379390716553s\n"
     ]
    }
   ],
   "source": [
    "# 2. Explore thresholds with plot\n",
    "plot_threshold_vs_metric_percentile(y_test, recon_error, metric='precision')"
   ]
  },
  {
   "cell_type": "code",
   "execution_count": 30,
   "id": "8e4d323e-33ce-4603-86c9-94f48b9b4e00",
   "metadata": {},
   "outputs": [
    {
     "name": "stdout",
     "output_type": "stream",
     "text": [
      "function: plot_threshold_vs_metric_percentile is starting...\n"
     ]
    },
    {
     "data": {
      "image/png": "[encoded data removed]",
      "text/plain": [
       "<Figure size 1000x600 with 2 Axes>"
      ]
     },
     "metadata": {},
     "output_type": "display_data"
    },
    {
     "name": "stdout",
     "output_type": "stream",
     "text": [
      "function: plot_threshold_vs_metric_percentile successfully executed at 0.4872860908508301s\n"
     ]
    }
   ],
   "source": [
    "plot_threshold_vs_metric_percentile(y_test, recon_error, metric='f0.5')"
   ]
  },
  {
   "cell_type": "code",
   "execution_count": 31,
   "id": "f9de67ef-933b-4358-b2e1-d6e40bd16370",
   "metadata": {},
   "outputs": [
    {
     "data": {
      "text/plain": [
       "np.float64(1.3485582769037432)"
      ]
     },
     "execution_count": 31,
     "metadata": {},
     "output_type": "execute_result"
    }
   ],
   "source": [
    "# Pick a threshold (e.g., 95th percentile of normal errors)\n",
    "threshold = np.percentile(recon_error[y_test == 0], 95)\n",
    "\n",
    "threshold"
   ]
  },
  {
   "cell_type": "code",
   "execution_count": 32,
   "id": "dddc3c1c-ee18-4262-a2e6-fe037377c539",
   "metadata": {},
   "outputs": [
    {
     "name": "stdout",
     "output_type": "stream",
     "text": [
      "function: flag_anomalies is starting...\n",
      "function: flag_anomalies successfully executed at 0.00015020370483398438s\n"
     ]
    },
    {
     "data": {
      "text/plain": [
       "array([0, 0, 0, ..., 1, 0, 0], shape=(2000,))"
      ]
     },
     "execution_count": 32,
     "metadata": {},
     "output_type": "execute_result"
    }
   ],
   "source": [
    "# 3. Flag anomalies\n",
    "y_pred = flag_anomalies(recon_error, threshold)\n",
    "y_pred"
   ]
  },
  {
   "cell_type": "code",
   "execution_count": 33,
   "id": "fdd3be5c-c1d9-4284-9536-215f39c6684e",
   "metadata": {},
   "outputs": [
    {
     "name": "stdout",
     "output_type": "stream",
     "text": [
      "function: detect_anomalies is starting...\n",
      "Threshold (q=95): 1.3486\n",
      "              precision    recall  f1-score   support\n",
      "\n",
      "           0       1.00      0.95      0.97      1905\n",
      "           1       0.50      1.00      0.66        95\n",
      "\n",
      "    accuracy                           0.95      2000\n",
      "   macro avg       0.75      0.97      0.82      2000\n",
      "weighted avg       0.98      0.95      0.96      2000\n",
      "\n",
      "function: detect_anomalies successfully executed at 0.022727489471435547s\n"
     ]
    }
   ],
   "source": [
    "# เราใส่ Testดาต้าทั้งหมด (f / nf) เข้าไปเพื่อเทส (assume ว่าตัวโมเดลเรียนรู้ pattern ความปกติมาแล้ว)\n",
    "# recon_error, predicted_fraud = detect_anomalies(trained_model, X_test, y_test,threshold_quantile=95)\n",
    "_, _ = detect_anomalies(trained_model, X_test, y_test,threshold_quantile=95)"
   ]
  },
  {
   "cell_type": "markdown",
   "id": "a1929d4c-790f-4bcf-9874-abcd22884d7a",
   "metadata": {},
   "source": [
    "### Embeddings"
   ]
  },
  {
   "cell_type": "code",
   "execution_count": 34,
   "id": "e9ffc521-d413-4e86-9616-a9ce0f3f18fa",
   "metadata": {},
   "outputs": [
    {
     "name": "stdout",
     "output_type": "stream",
     "text": [
      "function: extract_embeddings is starting...\n",
      "function: extract_embeddings successfully executed at 0.002393484115600586s\n"
     ]
    }
   ],
   "source": [
    "embeddings = extract_embeddings(trained_model, X_test)"
   ]
  },
  {
   "cell_type": "code",
   "execution_count": 35,
   "id": "1fada088-02ab-40cb-878e-e67b28cddfc0",
   "metadata": {},
   "outputs": [
    {
     "data": {
      "text/plain": [
       "array([[ -3.5199323,  -3.9722545,  -5.2691216],\n",
       "       [ -3.499177 ,  -3.948274 ,  -3.292949 ],\n",
       "       [ -3.200121 ,  -5.0832443,  -3.850948 ],\n",
       "       ...,\n",
       "       [  2.2080142, -19.367874 ,  -7.6157165],\n",
       "       [  0.6828423,  -6.869085 ,  -4.359135 ],\n",
       "       [ -3.6924906,  -3.3253422,  -4.3270016]],\n",
       "      shape=(2000, 3), dtype=float32)"
      ]
     },
     "execution_count": 35,
     "metadata": {},
     "output_type": "execute_result"
    }
   ],
   "source": [
    "embeddings"
   ]
  },
  {
   "cell_type": "code",
   "execution_count": 36,
   "id": "8516da7b-97d7-493d-acfe-3f115ece1871",
   "metadata": {},
   "outputs": [
    {
     "name": "stdout",
     "output_type": "stream",
     "text": [
      "function: plot_latent_space is starting...\n"
     ]
    },
    {
     "data": {
      "image/png": "[encoded data removed]",
      "text/plain": [
       "<Figure size 1400x500 with 3 Axes>"
      ]
     },
     "metadata": {},
     "output_type": "display_data"
    },
    {
     "name": "stdout",
     "output_type": "stream",
     "text": [
      "function: plot_latent_space successfully executed at 0.33299970626831055s\n"
     ]
    }
   ],
   "source": [
    "# embeddings = model.encode(torch.tensor(X_test, dtype=torch.float32)).detach().numpy()\n",
    "\n",
    "# 1. Only true labels\n",
    "# plot_latent_space(embeddings, y_test=y_test, encoding_dim=3)\n",
    "\n",
    "# # 2. Only predicted labels\n",
    "# plot_latent_space(embeddings, y_pred=predicted_fraud, encoding_dim=3)\n",
    "\n",
    "# # 3. Compare both\n",
    "plot_latent_space(embeddings, y_test=y_test, y_pred=y_pred, encoding_dim=2)"
   ]
  },
  {
   "cell_type": "code",
   "execution_count": 39,
   "id": "b34231ca-9bd8-40a1-a02f-25a5b257e4af",
   "metadata": {},
   "outputs": [
    {
     "data": {
      "text/html": [
       "<div>\n",
       "<style scoped>\n",
       "    .dataframe tbody tr th:only-of-type {\n",
       "        vertical-align: middle;\n",
       "    }\n",
       "\n",
       "    .dataframe tbody tr th {\n",
       "        vertical-align: top;\n",
       "    }\n",
       "\n",
       "    .dataframe thead th {\n",
       "        text-align: right;\n",
       "    }\n",
       "</style>\n",
       "<table border=\"1\" class=\"dataframe\">\n",
       "  <thead>\n",
       "    <tr style=\"text-align: right;\">\n",
       "      <th></th>\n",
       "      <th>y_test</th>\n",
       "      <th>y_pred</th>\n",
       "    </tr>\n",
       "  </thead>\n",
       "  <tbody>\n",
       "    <tr>\n",
       "      <th>0</th>\n",
       "      <td>1905</td>\n",
       "      <td>1809</td>\n",
       "    </tr>\n",
       "    <tr>\n",
       "      <th>1</th>\n",
       "      <td>95</td>\n",
       "      <td>191</td>\n",
       "    </tr>\n",
       "  </tbody>\n",
       "</table>\n",
       "</div>"
      ],
      "text/plain": [
       "   y_test  y_pred\n",
       "0    1905    1809\n",
       "1      95     191"
      ]
     },
     "execution_count": 39,
     "metadata": {},
     "output_type": "execute_result"
    }
   ],
   "source": [
    "pd.DataFrame({\n",
    "    \"y_test\": pd.Series(y_test).value_counts(),\n",
    "    \"y_pred\": pd.Series(y_pred).value_counts()\n",
    "}).fillna(0).astype(int)"
   ]
  },
  {
   "cell_type": "markdown",
   "id": "74588bf7-4bed-481b-b537-5564fd8096e9",
   "metadata": {},
   "source": [
    "### Packing"
   ]
  },
  {
   "cell_type": "code",
   "execution_count": 42,
   "id": "30effe40-3f99-44b4-8891-d0db7b5a8e28",
   "metadata": {},
   "outputs": [
    {
     "name": "stdout",
     "output_type": "stream",
     "text": [
      "function: create_pack_results is starting...\n",
      "function: create_pack_results successfully executed at 0.000652313232421875s\n"
     ]
    },
    {
     "data": {
      "text/html": [
       "<div>\n",
       "<style scoped>\n",
       "    .dataframe tbody tr th:only-of-type {\n",
       "        vertical-align: middle;\n",
       "    }\n",
       "\n",
       "    .dataframe tbody tr th {\n",
       "        vertical-align: top;\n",
       "    }\n",
       "\n",
       "    .dataframe thead th {\n",
       "        text-align: right;\n",
       "    }\n",
       "</style>\n",
       "<table border=\"1\" class=\"dataframe\">\n",
       "  <thead>\n",
       "    <tr style=\"text-align: right;\">\n",
       "      <th></th>\n",
       "      <th>sales_id</th>\n",
       "      <th>ae_l3_1</th>\n",
       "    </tr>\n",
       "  </thead>\n",
       "  <tbody>\n",
       "    <tr>\n",
       "      <th>0</th>\n",
       "      <td>8751</td>\n",
       "      <td>0</td>\n",
       "    </tr>\n",
       "    <tr>\n",
       "      <th>1</th>\n",
       "      <td>3108</td>\n",
       "      <td>0</td>\n",
       "    </tr>\n",
       "    <tr>\n",
       "      <th>2</th>\n",
       "      <td>7395</td>\n",
       "      <td>0</td>\n",
       "    </tr>\n",
       "    <tr>\n",
       "      <th>3</th>\n",
       "      <td>1373</td>\n",
       "      <td>0</td>\n",
       "    </tr>\n",
       "    <tr>\n",
       "      <th>4</th>\n",
       "      <td>1858</td>\n",
       "      <td>0</td>\n",
       "    </tr>\n",
       "    <tr>\n",
       "      <th>...</th>\n",
       "      <td>...</td>\n",
       "      <td>...</td>\n",
       "    </tr>\n",
       "    <tr>\n",
       "      <th>1995</th>\n",
       "      <td>3178</td>\n",
       "      <td>0</td>\n",
       "    </tr>\n",
       "    <tr>\n",
       "      <th>1996</th>\n",
       "      <td>9980</td>\n",
       "      <td>0</td>\n",
       "    </tr>\n",
       "    <tr>\n",
       "      <th>1997</th>\n",
       "      <td>1440</td>\n",
       "      <td>1</td>\n",
       "    </tr>\n",
       "    <tr>\n",
       "      <th>1998</th>\n",
       "      <td>8684</td>\n",
       "      <td>0</td>\n",
       "    </tr>\n",
       "    <tr>\n",
       "      <th>1999</th>\n",
       "      <td>3563</td>\n",
       "      <td>0</td>\n",
       "    </tr>\n",
       "  </tbody>\n",
       "</table>\n",
       "<p>2000 rows × 2 columns</p>\n",
       "</div>"
      ],
      "text/plain": [
       "      sales_id  ae_l3_1\n",
       "0         8751        0\n",
       "1         3108        0\n",
       "2         7395        0\n",
       "3         1373        0\n",
       "4         1858        0\n",
       "...        ...      ...\n",
       "1995      3178        0\n",
       "1996      9980        0\n",
       "1997      1440        1\n",
       "1998      8684        0\n",
       "1999      3563        0\n",
       "\n",
       "[2000 rows x 2 columns]"
      ]
     },
     "execution_count": 42,
     "metadata": {},
     "output_type": "execute_result"
    }
   ],
   "source": [
    "results_df = create_pack_results(test_df, y_pred, experiment_name='ae_l3_1')\n",
    "results_df"
   ]
  },
  {
   "cell_type": "code",
   "execution_count": null,
   "id": "e5bb07e8-50bb-475f-8ea2-bdb34a3dbc34",
   "metadata": {},
   "outputs": [],
   "source": [
    "# # First experiment\n",
    "# results_df = create_results_df_wide(test_df, y_pred_ae1, experiment_name='ae_1')\n",
    "\n",
    "# # Second experiment\n",
    "# results_df = append_experiment_results(results_df, y_pred_ae2, experiment_name='ae_2')\n",
    "\n",
    "# # Third experiment\n",
    "# results_df = append_experiment_results(results_df, y_pred_ae3, experiment_name='ae_3')\n",
    "\n",
    "# results_df\n"
   ]
  }
 ],
 "metadata": {
  "kernelspec": {
   "display_name": "Python (anomaly-detection)",
   "language": "python",
   "name": "anomaly-detection"
  },
  "language_info": {
   "codemirror_mode": {
    "name": "ipython",
    "version": 3
   },
   "file_extension": ".py",
   "mimetype": "text/x-python",
   "name": "python",
   "nbconvert_exporter": "python",
   "pygments_lexer": "ipython3",
   "version": "3.13.5"
  }
 },
 "nbformat": 4,
 "nbformat_minor": 5
}
