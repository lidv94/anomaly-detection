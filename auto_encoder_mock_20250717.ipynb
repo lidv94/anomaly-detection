{
 "cells": [
  {
   "cell_type": "code",
   "execution_count": 1,
   "id": "3d2842cd-003e-4e8f-807a-d181a4c76e9e",
   "metadata": {
    "tags": []
   },
   "outputs": [],
   "source": [
    "%load_ext autoreload\n",
    "%autoreload 2"
   ]
  },
  {
   "cell_type": "code",
   "execution_count": 2,
   "id": "979c6855-b15e-42e1-b7ae-3a8d6ca5ca47",
   "metadata": {
    "tags": []
   },
   "outputs": [],
   "source": [
    "# import pandas as pd\n",
    "# import numpy as np\n",
    "# import matplotlib.pyplot as plt\n",
    "# import seaborn as sns\n",
    "# import plotly.express as px\n",
    "# import plotly.graph_objects as go\n",
    "# from plotly.subplots import make_subplots\n",
    "# import math\n",
    "# from scipy import stats\n",
    "# import warnings\n",
    "# import re\n",
    "# import datetime\n",
    "# from package.utils import DotDict, timer, get_config, load_data, merge_data\n",
    "# import yaml\n",
    "# from itertools import product\n",
    "# from tqdm import tqdm\n",
    "# import re\n",
    "# import matplotlib.colors as mcolors\n",
    "# from sklearn.metrics import confusion_matrix, precision_score, recall_score, fbeta_score\n",
    "# warnings.filterwarnings(\"ignore\", category=UserWarning)\n",
    "# pd.set_option('display.max_columns', None)\n",
    "# pd.set_option('display.max_colwidth', None)\n",
    "# pd.set_option('display.max_rows', 300)"
   ]
  },
  {
   "cell_type": "code",
   "execution_count": 3,
   "id": "16905281-14b1-40c7-addc-4ba99f5d13e3",
   "metadata": {
    "tags": []
   },
   "outputs": [],
   "source": [
    "# from sklearn.preprocessing import StandardScaler\n",
    "# from sklearn.preprocessing import MinMaxScaler\n",
    "# from sklearn.cluster import KMeans, DBSCAN\n",
    "# from sklearn.mixture import GaussianMixture\n",
    "# from sklearn.metrics import silhouette_score\n",
    "# from sklearn.manifold import TSNE\n",
    "# from sklearn.decomposition import PCA\n",
    "# from sklearn.ensemble import IsolationForest\n",
    "# from sklearn.neighbors import NearestNeighbors\n",
    "# from sklearn.metrics.pairwise import euclidean_distances\n",
    "# import joblib\n",
    "# import boto3\n",
    "# import io\n",
    "# import gc"
   ]
  },
  {
   "cell_type": "code",
   "execution_count": 4,
   "id": "6f448637-99b0-4b77-908c-74ef00bf78f7",
   "metadata": {
    "tags": []
   },
   "outputs": [],
   "source": [
    "# from package.check import *\n",
    "# from package.fai import plot_dual_axis_plotly\n",
    "# from package.fraud_ml import *\n",
    "# from package.clustering import get_model"
   ]
  },
  {
   "cell_type": "markdown",
   "id": "7fc5bfaf-2e28-4bfa-9e36-22882c850599",
   "metadata": {},
   "source": [
    "## Autoencoder"
   ]
  },
  {
   "cell_type": "code",
   "execution_count": 5,
   "id": "4de88411-7fce-4f26-844b-a9f9ed1f6ea0",
   "metadata": {
    "tags": []
   },
   "outputs": [
    {
     "name": "stdout",
     "output_type": "stream",
     "text": [
      "^C\n"
     ]
    }
   ],
   "source": [
    "!pip install tensorflow"
   ]
  },
  {
   "cell_type": "code",
   "execution_count": 19,
   "id": "7c76c6f9-4d60-432e-91c0-74dc7eb5f298",
   "metadata": {
    "tags": []
   },
   "outputs": [],
   "source": [
    "import pandas as pd\n",
    "import numpy as np\n",
    "from sklearn.model_selection import train_test_split\n",
    "from sklearn.preprocessing import StandardScaler\n",
    "\n",
    "# 1. Generate mock data\n",
    "def generate_mock_data(n_sales=300, n_rules=10, fraud_ratio=0.05, seed=42):\n",
    "    np.random.seed(seed)\n",
    "    \n",
    "    timeunits = ['l3', 'l6', 'l9' , 'l12', 'l24','l36']\n",
    "    sales_ids = np.arange(n_sales)\n",
    "    all_data = []\n",
    "\n",
    "    # Assign fraud at sales_id level (consistent across timeunits)\n",
    "    is_fraud = np.random.choice([0, 1], size=n_sales, p=[1-fraud_ratio, fraud_ratio])\n",
    "    sales_id_fraud_map = dict(zip(sales_ids, is_fraud))\n",
    "    \n",
    "    for t in timeunits:\n",
    "        for s_id in sales_ids:\n",
    "            row = {\n",
    "                'sales_id': s_id,\n",
    "                'timeunit': t,\n",
    "                'flag_fraud': sales_id_fraud_map[s_id]\n",
    "            }\n",
    "            for i in range(1, n_rules + 1):\n",
    "                base_val = np.random.normal(loc=0, scale=1)\n",
    "                if sales_id_fraud_map[s_id] == 1:\n",
    "                    base_val += np.random.normal(loc=3, scale=1.5)\n",
    "                row[f'rule_{i}'] = base_val\n",
    "            all_data.append(row)\n",
    "    \n",
    "    df = pd.DataFrame(all_data)\n",
    "    return df"
   ]
  },
  {
   "cell_type": "code",
   "execution_count": 21,
   "id": "efcab45d-b7f2-48e9-955b-6bbda13baaea",
   "metadata": {
    "tags": []
   },
   "outputs": [
    {
     "data": {
      "text/html": [
       "<div>\n",
       "<style scoped>\n",
       "    .dataframe tbody tr th:only-of-type {\n",
       "        vertical-align: middle;\n",
       "    }\n",
       "\n",
       "    .dataframe tbody tr th {\n",
       "        vertical-align: top;\n",
       "    }\n",
       "\n",
       "    .dataframe thead th {\n",
       "        text-align: right;\n",
       "    }\n",
       "</style>\n",
       "<table border=\"1\" class=\"dataframe\">\n",
       "  <thead>\n",
       "    <tr style=\"text-align: right;\">\n",
       "      <th></th>\n",
       "      <th>sales_id</th>\n",
       "      <th>timeunit</th>\n",
       "      <th>flag_fraud</th>\n",
       "      <th>rule_1</th>\n",
       "      <th>rule_2</th>\n",
       "      <th>rule_3</th>\n",
       "      <th>rule_4</th>\n",
       "      <th>rule_5</th>\n",
       "      <th>rule_6</th>\n",
       "      <th>rule_7</th>\n",
       "      <th>rule_8</th>\n",
       "      <th>rule_9</th>\n",
       "      <th>rule_10</th>\n",
       "    </tr>\n",
       "  </thead>\n",
       "  <tbody>\n",
       "    <tr>\n",
       "      <th>0</th>\n",
       "      <td>0</td>\n",
       "      <td>l3</td>\n",
       "      <td>0</td>\n",
       "      <td>-1.487862</td>\n",
       "      <td>-1.125186</td>\n",
       "      <td>0.388819</td>\n",
       "      <td>-1.173873</td>\n",
       "      <td>1.112634</td>\n",
       "      <td>-0.071120</td>\n",
       "      <td>0.085595</td>\n",
       "      <td>-0.278373</td>\n",
       "      <td>0.772848</td>\n",
       "      <td>0.783160</td>\n",
       "    </tr>\n",
       "    <tr>\n",
       "      <th>1</th>\n",
       "      <td>1</td>\n",
       "      <td>l3</td>\n",
       "      <td>1</td>\n",
       "      <td>4.182238</td>\n",
       "      <td>3.601215</td>\n",
       "      <td>2.665470</td>\n",
       "      <td>2.039528</td>\n",
       "      <td>3.012423</td>\n",
       "      <td>6.067259</td>\n",
       "      <td>3.677239</td>\n",
       "      <td>3.582941</td>\n",
       "      <td>2.306755</td>\n",
       "      <td>1.086816</td>\n",
       "    </tr>\n",
       "    <tr>\n",
       "      <th>2</th>\n",
       "      <td>2</td>\n",
       "      <td>l3</td>\n",
       "      <td>0</td>\n",
       "      <td>0.608267</td>\n",
       "      <td>1.345935</td>\n",
       "      <td>-0.174648</td>\n",
       "      <td>1.360168</td>\n",
       "      <td>-0.189693</td>\n",
       "      <td>0.849585</td>\n",
       "      <td>-2.218570</td>\n",
       "      <td>2.418778</td>\n",
       "      <td>1.495458</td>\n",
       "      <td>-0.284626</td>\n",
       "    </tr>\n",
       "    <tr>\n",
       "      <th>3</th>\n",
       "      <td>3</td>\n",
       "      <td>l3</td>\n",
       "      <td>0</td>\n",
       "      <td>-1.972089</td>\n",
       "      <td>0.288028</td>\n",
       "      <td>-1.443926</td>\n",
       "      <td>0.444854</td>\n",
       "      <td>0.411566</td>\n",
       "      <td>-0.941403</td>\n",
       "      <td>1.120967</td>\n",
       "      <td>0.805575</td>\n",
       "      <td>0.975823</td>\n",
       "      <td>0.008858</td>\n",
       "    </tr>\n",
       "    <tr>\n",
       "      <th>4</th>\n",
       "      <td>4</td>\n",
       "      <td>l3</td>\n",
       "      <td>0</td>\n",
       "      <td>-1.415524</td>\n",
       "      <td>0.977872</td>\n",
       "      <td>-0.270371</td>\n",
       "      <td>-1.389780</td>\n",
       "      <td>1.352039</td>\n",
       "      <td>2.099408</td>\n",
       "      <td>-0.041248</td>\n",
       "      <td>2.159121</td>\n",
       "      <td>0.091315</td>\n",
       "      <td>-0.380456</td>\n",
       "    </tr>\n",
       "    <tr>\n",
       "      <th>...</th>\n",
       "      <td>...</td>\n",
       "      <td>...</td>\n",
       "      <td>...</td>\n",
       "      <td>...</td>\n",
       "      <td>...</td>\n",
       "      <td>...</td>\n",
       "      <td>...</td>\n",
       "      <td>...</td>\n",
       "      <td>...</td>\n",
       "      <td>...</td>\n",
       "      <td>...</td>\n",
       "      <td>...</td>\n",
       "      <td>...</td>\n",
       "    </tr>\n",
       "    <tr>\n",
       "      <th>59995</th>\n",
       "      <td>9995</td>\n",
       "      <td>l36</td>\n",
       "      <td>0</td>\n",
       "      <td>0.647493</td>\n",
       "      <td>-0.163831</td>\n",
       "      <td>-1.743780</td>\n",
       "      <td>1.184970</td>\n",
       "      <td>-0.193500</td>\n",
       "      <td>-1.273190</td>\n",
       "      <td>0.773532</td>\n",
       "      <td>-1.803990</td>\n",
       "      <td>2.209333</td>\n",
       "      <td>-0.800634</td>\n",
       "    </tr>\n",
       "    <tr>\n",
       "      <th>59996</th>\n",
       "      <td>9996</td>\n",
       "      <td>l36</td>\n",
       "      <td>0</td>\n",
       "      <td>-0.716390</td>\n",
       "      <td>1.700367</td>\n",
       "      <td>-0.933375</td>\n",
       "      <td>0.191027</td>\n",
       "      <td>-1.348096</td>\n",
       "      <td>2.584121</td>\n",
       "      <td>-0.054343</td>\n",
       "      <td>-1.355835</td>\n",
       "      <td>1.124099</td>\n",
       "      <td>0.609250</td>\n",
       "    </tr>\n",
       "    <tr>\n",
       "      <th>59997</th>\n",
       "      <td>9997</td>\n",
       "      <td>l36</td>\n",
       "      <td>0</td>\n",
       "      <td>1.066770</td>\n",
       "      <td>-1.592284</td>\n",
       "      <td>-1.706892</td>\n",
       "      <td>1.178747</td>\n",
       "      <td>0.985029</td>\n",
       "      <td>0.364593</td>\n",
       "      <td>-2.039914</td>\n",
       "      <td>-0.325981</td>\n",
       "      <td>0.478952</td>\n",
       "      <td>0.808948</td>\n",
       "    </tr>\n",
       "    <tr>\n",
       "      <th>59998</th>\n",
       "      <td>9998</td>\n",
       "      <td>l36</td>\n",
       "      <td>0</td>\n",
       "      <td>1.622065</td>\n",
       "      <td>-0.303766</td>\n",
       "      <td>1.377932</td>\n",
       "      <td>-0.777375</td>\n",
       "      <td>-0.179569</td>\n",
       "      <td>0.607243</td>\n",
       "      <td>-1.106324</td>\n",
       "      <td>-0.591367</td>\n",
       "      <td>0.501293</td>\n",
       "      <td>0.450664</td>\n",
       "    </tr>\n",
       "    <tr>\n",
       "      <th>59999</th>\n",
       "      <td>9999</td>\n",
       "      <td>l36</td>\n",
       "      <td>0</td>\n",
       "      <td>-0.627238</td>\n",
       "      <td>0.802268</td>\n",
       "      <td>0.370617</td>\n",
       "      <td>0.899228</td>\n",
       "      <td>-1.062791</td>\n",
       "      <td>-0.834835</td>\n",
       "      <td>0.212760</td>\n",
       "      <td>-0.731499</td>\n",
       "      <td>-0.355249</td>\n",
       "      <td>-0.062371</td>\n",
       "    </tr>\n",
       "  </tbody>\n",
       "</table>\n",
       "<p>60000 rows × 13 columns</p>\n",
       "</div>"
      ],
      "text/plain": [
       "       sales_id timeunit  flag_fraud    rule_1    rule_2    rule_3    rule_4  \\\n",
       "0             0       l3           0 -1.487862 -1.125186  0.388819 -1.173873   \n",
       "1             1       l3           1  4.182238  3.601215  2.665470  2.039528   \n",
       "2             2       l3           0  0.608267  1.345935 -0.174648  1.360168   \n",
       "3             3       l3           0 -1.972089  0.288028 -1.443926  0.444854   \n",
       "4             4       l3           0 -1.415524  0.977872 -0.270371 -1.389780   \n",
       "...         ...      ...         ...       ...       ...       ...       ...   \n",
       "59995      9995      l36           0  0.647493 -0.163831 -1.743780  1.184970   \n",
       "59996      9996      l36           0 -0.716390  1.700367 -0.933375  0.191027   \n",
       "59997      9997      l36           0  1.066770 -1.592284 -1.706892  1.178747   \n",
       "59998      9998      l36           0  1.622065 -0.303766  1.377932 -0.777375   \n",
       "59999      9999      l36           0 -0.627238  0.802268  0.370617  0.899228   \n",
       "\n",
       "         rule_5    rule_6    rule_7    rule_8    rule_9   rule_10  \n",
       "0      1.112634 -0.071120  0.085595 -0.278373  0.772848  0.783160  \n",
       "1      3.012423  6.067259  3.677239  3.582941  2.306755  1.086816  \n",
       "2     -0.189693  0.849585 -2.218570  2.418778  1.495458 -0.284626  \n",
       "3      0.411566 -0.941403  1.120967  0.805575  0.975823  0.008858  \n",
       "4      1.352039  2.099408 -0.041248  2.159121  0.091315 -0.380456  \n",
       "...         ...       ...       ...       ...       ...       ...  \n",
       "59995 -0.193500 -1.273190  0.773532 -1.803990  2.209333 -0.800634  \n",
       "59996 -1.348096  2.584121 -0.054343 -1.355835  1.124099  0.609250  \n",
       "59997  0.985029  0.364593 -2.039914 -0.325981  0.478952  0.808948  \n",
       "59998 -0.179569  0.607243 -1.106324 -0.591367  0.501293  0.450664  \n",
       "59999 -1.062791 -0.834835  0.212760 -0.731499 -0.355249 -0.062371  \n",
       "\n",
       "[60000 rows x 13 columns]"
      ]
     },
     "execution_count": 21,
     "metadata": {},
     "output_type": "execute_result"
    }
   ],
   "source": [
    "mock1 = generate_mock_data(n_sales=10000, n_rules=10, fraud_ratio=0.05, seed=42)\n",
    "mock1"
   ]
  },
  {
   "cell_type": "code",
   "execution_count": 22,
   "id": "450497cd-e6e6-4de7-a623-1f8740273180",
   "metadata": {
    "tags": []
   },
   "outputs": [
    {
     "data": {
      "text/html": [
       "<div>\n",
       "<style scoped>\n",
       "    .dataframe tbody tr th:only-of-type {\n",
       "        vertical-align: middle;\n",
       "    }\n",
       "\n",
       "    .dataframe tbody tr th {\n",
       "        vertical-align: top;\n",
       "    }\n",
       "\n",
       "    .dataframe thead th {\n",
       "        text-align: right;\n",
       "    }\n",
       "</style>\n",
       "<table border=\"1\" class=\"dataframe\">\n",
       "  <thead>\n",
       "    <tr style=\"text-align: right;\">\n",
       "      <th></th>\n",
       "      <th>sales_id</th>\n",
       "      <th>timeunit</th>\n",
       "      <th>flag_fraud</th>\n",
       "      <th>rule_1</th>\n",
       "      <th>rule_2</th>\n",
       "      <th>rule_3</th>\n",
       "      <th>rule_4</th>\n",
       "      <th>rule_5</th>\n",
       "      <th>rule_6</th>\n",
       "      <th>rule_7</th>\n",
       "      <th>rule_8</th>\n",
       "      <th>rule_9</th>\n",
       "      <th>rule_10</th>\n",
       "    </tr>\n",
       "  </thead>\n",
       "  <tbody>\n",
       "    <tr>\n",
       "      <th>500</th>\n",
       "      <td>500</td>\n",
       "      <td>l3</td>\n",
       "      <td>0</td>\n",
       "      <td>0.166968</td>\n",
       "      <td>1.460680</td>\n",
       "      <td>-0.610763</td>\n",
       "      <td>0.106670</td>\n",
       "      <td>0.747059</td>\n",
       "      <td>-1.321209</td>\n",
       "      <td>3.096589</td>\n",
       "      <td>0.028566</td>\n",
       "      <td>0.141989</td>\n",
       "      <td>1.256878</td>\n",
       "    </tr>\n",
       "    <tr>\n",
       "      <th>10500</th>\n",
       "      <td>500</td>\n",
       "      <td>l6</td>\n",
       "      <td>0</td>\n",
       "      <td>-0.073630</td>\n",
       "      <td>0.301153</td>\n",
       "      <td>0.616660</td>\n",
       "      <td>-1.569894</td>\n",
       "      <td>-0.348854</td>\n",
       "      <td>-0.788112</td>\n",
       "      <td>-1.733676</td>\n",
       "      <td>-0.985178</td>\n",
       "      <td>1.020987</td>\n",
       "      <td>-0.254389</td>\n",
       "    </tr>\n",
       "    <tr>\n",
       "      <th>20500</th>\n",
       "      <td>500</td>\n",
       "      <td>l9</td>\n",
       "      <td>0</td>\n",
       "      <td>-1.102702</td>\n",
       "      <td>1.092087</td>\n",
       "      <td>0.867330</td>\n",
       "      <td>0.959610</td>\n",
       "      <td>-0.033662</td>\n",
       "      <td>-1.215877</td>\n",
       "      <td>-0.417598</td>\n",
       "      <td>0.135218</td>\n",
       "      <td>-0.373176</td>\n",
       "      <td>1.078219</td>\n",
       "    </tr>\n",
       "    <tr>\n",
       "      <th>30500</th>\n",
       "      <td>500</td>\n",
       "      <td>l12</td>\n",
       "      <td>0</td>\n",
       "      <td>-0.820564</td>\n",
       "      <td>0.947833</td>\n",
       "      <td>0.971056</td>\n",
       "      <td>-0.700119</td>\n",
       "      <td>0.724817</td>\n",
       "      <td>0.769781</td>\n",
       "      <td>-1.355791</td>\n",
       "      <td>2.047062</td>\n",
       "      <td>-1.484542</td>\n",
       "      <td>-0.768653</td>\n",
       "    </tr>\n",
       "    <tr>\n",
       "      <th>40500</th>\n",
       "      <td>500</td>\n",
       "      <td>l24</td>\n",
       "      <td>0</td>\n",
       "      <td>-0.109731</td>\n",
       "      <td>0.393684</td>\n",
       "      <td>0.790195</td>\n",
       "      <td>-0.213127</td>\n",
       "      <td>-0.359229</td>\n",
       "      <td>0.005206</td>\n",
       "      <td>-0.953972</td>\n",
       "      <td>-0.107915</td>\n",
       "      <td>-1.326031</td>\n",
       "      <td>-0.332294</td>\n",
       "    </tr>\n",
       "    <tr>\n",
       "      <th>50500</th>\n",
       "      <td>500</td>\n",
       "      <td>l36</td>\n",
       "      <td>0</td>\n",
       "      <td>0.062239</td>\n",
       "      <td>1.725557</td>\n",
       "      <td>0.175799</td>\n",
       "      <td>-0.605733</td>\n",
       "      <td>0.004543</td>\n",
       "      <td>-0.544945</td>\n",
       "      <td>-1.028337</td>\n",
       "      <td>0.546450</td>\n",
       "      <td>0.592578</td>\n",
       "      <td>0.994537</td>\n",
       "    </tr>\n",
       "  </tbody>\n",
       "</table>\n",
       "</div>"
      ],
      "text/plain": [
       "       sales_id timeunit  flag_fraud    rule_1    rule_2    rule_3    rule_4  \\\n",
       "500         500       l3           0  0.166968  1.460680 -0.610763  0.106670   \n",
       "10500       500       l6           0 -0.073630  0.301153  0.616660 -1.569894   \n",
       "20500       500       l9           0 -1.102702  1.092087  0.867330  0.959610   \n",
       "30500       500      l12           0 -0.820564  0.947833  0.971056 -0.700119   \n",
       "40500       500      l24           0 -0.109731  0.393684  0.790195 -0.213127   \n",
       "50500       500      l36           0  0.062239  1.725557  0.175799 -0.605733   \n",
       "\n",
       "         rule_5    rule_6    rule_7    rule_8    rule_9   rule_10  \n",
       "500    0.747059 -1.321209  3.096589  0.028566  0.141989  1.256878  \n",
       "10500 -0.348854 -0.788112 -1.733676 -0.985178  1.020987 -0.254389  \n",
       "20500 -0.033662 -1.215877 -0.417598  0.135218 -0.373176  1.078219  \n",
       "30500  0.724817  0.769781 -1.355791  2.047062 -1.484542 -0.768653  \n",
       "40500 -0.359229  0.005206 -0.953972 -0.107915 -1.326031 -0.332294  \n",
       "50500  0.004543 -0.544945 -1.028337  0.546450  0.592578  0.994537  "
      ]
     },
     "execution_count": 22,
     "metadata": {},
     "output_type": "execute_result"
    }
   ],
   "source": [
    "mock1[mock1['sales_id']==500]"
   ]
  },
  {
   "cell_type": "code",
   "execution_count": 23,
   "id": "636d7563-bed8-4387-90f9-15fc2d7e183c",
   "metadata": {
    "tags": []
   },
   "outputs": [
    {
     "data": {
      "text/html": [
       "<div>\n",
       "<style scoped>\n",
       "    .dataframe tbody tr th:only-of-type {\n",
       "        vertical-align: middle;\n",
       "    }\n",
       "\n",
       "    .dataframe tbody tr th {\n",
       "        vertical-align: top;\n",
       "    }\n",
       "\n",
       "    .dataframe thead th {\n",
       "        text-align: right;\n",
       "    }\n",
       "</style>\n",
       "<table border=\"1\" class=\"dataframe\">\n",
       "  <thead>\n",
       "    <tr style=\"text-align: right;\">\n",
       "      <th></th>\n",
       "      <th>sales_id</th>\n",
       "      <th>timeunit</th>\n",
       "      <th>flag_fraud</th>\n",
       "      <th>rule_1</th>\n",
       "      <th>rule_2</th>\n",
       "      <th>rule_3</th>\n",
       "      <th>rule_4</th>\n",
       "      <th>rule_5</th>\n",
       "      <th>rule_6</th>\n",
       "      <th>rule_7</th>\n",
       "      <th>rule_8</th>\n",
       "      <th>rule_9</th>\n",
       "      <th>rule_10</th>\n",
       "    </tr>\n",
       "  </thead>\n",
       "  <tbody>\n",
       "    <tr>\n",
       "      <th>1</th>\n",
       "      <td>1</td>\n",
       "      <td>l3</td>\n",
       "      <td>1</td>\n",
       "      <td>4.182238</td>\n",
       "      <td>3.601215</td>\n",
       "      <td>2.665470</td>\n",
       "      <td>2.039528</td>\n",
       "      <td>3.012423</td>\n",
       "      <td>6.067259</td>\n",
       "      <td>3.677239</td>\n",
       "      <td>3.582941</td>\n",
       "      <td>2.306755</td>\n",
       "      <td>1.086816</td>\n",
       "    </tr>\n",
       "    <tr>\n",
       "      <th>10001</th>\n",
       "      <td>1</td>\n",
       "      <td>l6</td>\n",
       "      <td>1</td>\n",
       "      <td>1.992690</td>\n",
       "      <td>2.788892</td>\n",
       "      <td>2.641399</td>\n",
       "      <td>3.292779</td>\n",
       "      <td>3.056713</td>\n",
       "      <td>2.506039</td>\n",
       "      <td>4.922938</td>\n",
       "      <td>2.011123</td>\n",
       "      <td>3.777520</td>\n",
       "      <td>5.183808</td>\n",
       "    </tr>\n",
       "    <tr>\n",
       "      <th>20001</th>\n",
       "      <td>1</td>\n",
       "      <td>l9</td>\n",
       "      <td>1</td>\n",
       "      <td>3.860721</td>\n",
       "      <td>1.453199</td>\n",
       "      <td>1.186555</td>\n",
       "      <td>2.943711</td>\n",
       "      <td>1.687425</td>\n",
       "      <td>-0.344547</td>\n",
       "      <td>1.282770</td>\n",
       "      <td>3.757316</td>\n",
       "      <td>3.757815</td>\n",
       "      <td>1.615426</td>\n",
       "    </tr>\n",
       "    <tr>\n",
       "      <th>30001</th>\n",
       "      <td>1</td>\n",
       "      <td>l12</td>\n",
       "      <td>1</td>\n",
       "      <td>2.214356</td>\n",
       "      <td>3.323717</td>\n",
       "      <td>1.351970</td>\n",
       "      <td>4.490844</td>\n",
       "      <td>4.123939</td>\n",
       "      <td>1.937718</td>\n",
       "      <td>2.207038</td>\n",
       "      <td>0.926875</td>\n",
       "      <td>2.700979</td>\n",
       "      <td>4.692913</td>\n",
       "    </tr>\n",
       "    <tr>\n",
       "      <th>40001</th>\n",
       "      <td>1</td>\n",
       "      <td>l24</td>\n",
       "      <td>1</td>\n",
       "      <td>-0.011207</td>\n",
       "      <td>1.395388</td>\n",
       "      <td>7.004542</td>\n",
       "      <td>2.778126</td>\n",
       "      <td>4.224606</td>\n",
       "      <td>3.769747</td>\n",
       "      <td>2.411819</td>\n",
       "      <td>3.796941</td>\n",
       "      <td>-0.738528</td>\n",
       "      <td>4.551202</td>\n",
       "    </tr>\n",
       "    <tr>\n",
       "      <th>50001</th>\n",
       "      <td>1</td>\n",
       "      <td>l36</td>\n",
       "      <td>1</td>\n",
       "      <td>3.273467</td>\n",
       "      <td>3.954580</td>\n",
       "      <td>5.130358</td>\n",
       "      <td>1.143979</td>\n",
       "      <td>3.064396</td>\n",
       "      <td>1.383533</td>\n",
       "      <td>1.918352</td>\n",
       "      <td>-0.468026</td>\n",
       "      <td>0.177472</td>\n",
       "      <td>3.403392</td>\n",
       "    </tr>\n",
       "  </tbody>\n",
       "</table>\n",
       "</div>"
      ],
      "text/plain": [
       "       sales_id timeunit  flag_fraud    rule_1    rule_2    rule_3    rule_4  \\\n",
       "1             1       l3           1  4.182238  3.601215  2.665470  2.039528   \n",
       "10001         1       l6           1  1.992690  2.788892  2.641399  3.292779   \n",
       "20001         1       l9           1  3.860721  1.453199  1.186555  2.943711   \n",
       "30001         1      l12           1  2.214356  3.323717  1.351970  4.490844   \n",
       "40001         1      l24           1 -0.011207  1.395388  7.004542  2.778126   \n",
       "50001         1      l36           1  3.273467  3.954580  5.130358  1.143979   \n",
       "\n",
       "         rule_5    rule_6    rule_7    rule_8    rule_9   rule_10  \n",
       "1      3.012423  6.067259  3.677239  3.582941  2.306755  1.086816  \n",
       "10001  3.056713  2.506039  4.922938  2.011123  3.777520  5.183808  \n",
       "20001  1.687425 -0.344547  1.282770  3.757316  3.757815  1.615426  \n",
       "30001  4.123939  1.937718  2.207038  0.926875  2.700979  4.692913  \n",
       "40001  4.224606  3.769747  2.411819  3.796941 -0.738528  4.551202  \n",
       "50001  3.064396  1.383533  1.918352 -0.468026  0.177472  3.403392  "
      ]
     },
     "execution_count": 23,
     "metadata": {},
     "output_type": "execute_result"
    }
   ],
   "source": [
    "mock1[mock1['sales_id']==1]"
   ]
  },
  {
   "cell_type": "code",
   "execution_count": 34,
   "id": "6932221a-4578-4200-bb65-f9b7deb6b6f8",
   "metadata": {
    "tags": []
   },
   "outputs": [],
   "source": [
    "# 2. Subset and prepare data\n",
    "def prepare_data(df, timeunit='l3', scale=True):\n",
    "    \"\"\"\n",
    "    Subset the data by timeunit and optionally scale it.\n",
    "    \n",
    "    Parameters:\n",
    "    - df: DataFrame\n",
    "    - timeunit: str, e.g. 'l3'\n",
    "    - scale: bool, whether to apply StandardScaler\n",
    "    \n",
    "    Returns:\n",
    "    - X_train: training data (non-fraud only)\n",
    "    - X_test: full test set\n",
    "    - y_test: labels for test set\n",
    "    - scaler: fitted scaler or None\n",
    "    \"\"\"\n",
    "    subset_df = df[df['timeunit'] == timeunit].reset_index(drop=True)\n",
    "    features = [col for col in subset_df.columns if col.startswith('rule_')]\n",
    "    X = subset_df[features].values\n",
    "    y = subset_df['flag_fraud'].values\n",
    "\n",
    "    scaler = None\n",
    "    if scale:\n",
    "        scaler = StandardScaler()\n",
    "        X_scaled = scaler.fit_transform(X)\n",
    "    else:\n",
    "        X_scaled = X\n",
    "\n",
    "    X_train = X_scaled[y == 0]\n",
    "    X_test = X_scaled\n",
    "    y_test = y\n",
    "    return X_train, X_test, y_test, scaler"
   ]
  },
  {
   "cell_type": "code",
   "execution_count": 37,
   "id": "f02a67b8-e5db-40da-9361-cdf923066cac",
   "metadata": {
    "tags": []
   },
   "outputs": [],
   "source": [
    "X_train, X_test, y_test, scaler = prepare_data(mock1, timeunit='l3', scale=False)"
   ]
  },
  {
   "cell_type": "code",
   "execution_count": 38,
   "id": "4cea393f-4ddb-4501-bb71-3a285eb09f9b",
   "metadata": {
    "tags": []
   },
   "outputs": [
    {
     "data": {
      "text/plain": [
       "9526"
      ]
     },
     "execution_count": 38,
     "metadata": {},
     "output_type": "execute_result"
    }
   ],
   "source": [
    "len(X_train) # train only non-fraud agent"
   ]
  },
  {
   "cell_type": "code",
   "execution_count": 39,
   "id": "937c8d37-9e78-4a5b-9bc6-2a288095c47c",
   "metadata": {
    "tags": []
   },
   "outputs": [
    {
     "data": {
      "text/plain": [
       "10000"
      ]
     },
     "execution_count": 39,
     "metadata": {},
     "output_type": "execute_result"
    }
   ],
   "source": [
    "len(X_test) # test with all agent"
   ]
  },
  {
   "cell_type": "code",
   "execution_count": 40,
   "id": "e4191636-6e01-4c93-898e-d6cb2ef663dd",
   "metadata": {
    "tags": []
   },
   "outputs": [
    {
     "data": {
      "text/plain": [
       "10000"
      ]
     },
     "execution_count": 40,
     "metadata": {},
     "output_type": "execute_result"
    }
   ],
   "source": [
    "len(y_test) # เฉลย for all agent"
   ]
  },
  {
   "cell_type": "code",
   "execution_count": 42,
   "id": "b1653758-cd31-4dbe-9b0f-b9dd1463c022",
   "metadata": {
    "tags": []
   },
   "outputs": [],
   "source": [
    "from sklearn.metrics import classification_report\n",
    "from sklearn.manifold import TSNE\n",
    "import matplotlib.pyplot as plt\n",
    "from tensorflow.keras.models import Model\n",
    "from tensorflow.keras.layers import Input, Dense\n",
    "from tensorflow.keras import regularizers\n",
    "\n",
    "\n",
    "def build_autoencoder(input_dim,\n",
    "                      encoding_dim=4,\n",
    "                      hidden_layers=[8],\n",
    "                      activation='relu',\n",
    "                      loss='mse',\n",
    "                      optimizer='adam'):\n",
    "    \"\"\"\n",
    "    Build an autoencoder with customizable architecture.\n",
    "    \n",
    "    Parameters:\n",
    "    - input_dim: int, number of input features\n",
    "    - encoding_dim: int, size of latent space\n",
    "    - hidden_layers: list of int, hidden layer sizes before and after latent\n",
    "    - activation: str, activation function for hidden layers\n",
    "    - loss: str, loss function (default: 'mse')\n",
    "    - optimizer: str or optimizer object\n",
    "    \n",
    "    Returns:\n",
    "    - autoencoder: compiled Keras model\n",
    "    - encoder: encoder portion (for embedding extraction)\n",
    "    \"\"\"\n",
    "    # Input layer\n",
    "    input_layer = Input(shape=(input_dim,))\n",
    "    \n",
    "    # Encoder\n",
    "    x = input_layer\n",
    "    for size in hidden_layers:\n",
    "        x = Dense(size, activation=activation)(x)\n",
    "    \n",
    "    # Latent space\n",
    "    latent = Dense(encoding_dim, activation=activation)(x)\n",
    "    \n",
    "    # Decoder (reverse hidden layers)\n",
    "    x = latent\n",
    "    for size in reversed(hidden_layers):\n",
    "        x = Dense(size, activation=activation)(x)\n",
    "    \n",
    "    # Output\n",
    "    output_layer = Dense(input_dim, activation='linear')(x)\n",
    "    \n",
    "    autoencoder = Model(inputs=input_layer, outputs=output_layer)\n",
    "    autoencoder.compile(optimizer=optimizer, loss=loss)\n",
    "    \n",
    "    # Encoder model\n",
    "    encoder = Model(inputs=input_layer, outputs=latent)\n",
    "    \n",
    "    return autoencoder, encoder"
   ]
  },
  {
   "cell_type": "code",
   "execution_count": 43,
   "id": "e890b8bb-51e9-4c79-b9a5-eb034566da7f",
   "metadata": {
    "tags": []
   },
   "outputs": [
    {
     "data": {
      "text/plain": [
       "10"
      ]
     },
     "execution_count": 43,
     "metadata": {},
     "output_type": "execute_result"
    }
   ],
   "source": [
    "X_train.shape[1]"
   ]
  },
  {
   "cell_type": "code",
   "execution_count": 45,
   "id": "80b9d22c-5ff2-4a00-95ca-c564642cf4d0",
   "metadata": {
    "tags": []
   },
   "outputs": [],
   "source": [
    "mock1_autoencoder, mock1_encoder = build_autoencoder(input_dim= X_train.shape[1])"
   ]
  },
  {
   "cell_type": "code",
   "execution_count": 46,
   "id": "6a5eea3f-82da-4f8a-bcdb-8af59936c3db",
   "metadata": {
    "tags": []
   },
   "outputs": [
    {
     "data": {
      "text/plain": [
       "<Functional name=functional_2, built=True>"
      ]
     },
     "execution_count": 46,
     "metadata": {},
     "output_type": "execute_result"
    }
   ],
   "source": [
    "mock1_autoencoder"
   ]
  },
  {
   "cell_type": "code",
   "execution_count": 47,
   "id": "0ff9c64a-c9b2-4bde-a451-25eca3b75dff",
   "metadata": {
    "tags": []
   },
   "outputs": [
    {
     "data": {
      "text/plain": [
       "<Functional name=functional_3, built=True>"
      ]
     },
     "execution_count": 47,
     "metadata": {},
     "output_type": "execute_result"
    }
   ],
   "source": [
    "mock1_encoder"
   ]
  },
  {
   "cell_type": "code",
   "execution_count": 48,
   "id": "e22b30f8-0647-45e3-8531-10ff31c7eae9",
   "metadata": {
    "tags": []
   },
   "outputs": [],
   "source": [
    "def train_autoencoder(autoencoder, \n",
    "                      X_train,\n",
    "                      epochs=50,\n",
    "                      batch_size=32,\n",
    "                      validation_split=0.1,\n",
    "                      verbose=1):\n",
    "    \"\"\"\n",
    "    Train the autoencoder model using X_train as both input and target.\n",
    "\n",
    "    Parameters:\n",
    "    - autoencoder: compiled Keras model\n",
    "    - X_train: np.array, training data (typically only non-anomalous instances)\n",
    "    - epochs: int, number of training epochs\n",
    "    - batch_size: int, batch size for training\n",
    "    - validation_split: float, portion of training data used for validation\n",
    "    - verbose: int, verbosity mode (0=silent, 1=progress bar)\n",
    "\n",
    "    Concept:\n",
    "    --------\n",
    "    Autoencoders are unsupervised neural networks trained to **reconstruct their input**.\n",
    "    Therefore, the model is trained using:\n",
    "        - X = input data\n",
    "        - Y = input data (same as X)\n",
    "    \n",
    "    The goal is to minimize the **reconstruction error** between input and output.\n",
    "    Later, we use this error to detect anomalies — high error implies the input \n",
    "    is different from what the model has learned to reconstruct (i.e., potentially fraudulent).\n",
    "\n",
    "    Returns:\n",
    "    - history: Keras training history object\n",
    "    \"\"\"\n",
    "    history = autoencoder.fit(X_train, X_train,  \n",
    "                              epochs=epochs,\n",
    "                              batch_size=batch_size,\n",
    "                              shuffle=True,\n",
    "                              validation_split=validation_split,\n",
    "                              verbose=verbose)\n",
    "    return history\n"
   ]
  },
  {
   "cell_type": "code",
   "execution_count": 49,
   "id": "372a0cc1-1efb-4558-91d2-18665b70ca47",
   "metadata": {
    "tags": []
   },
   "outputs": [
    {
     "name": "stdout",
     "output_type": "stream",
     "text": [
      "Epoch 1/100\n",
      "\u001b[1m120/120\u001b[0m \u001b[32m━━━━━━━━━━━━━━━━━━━━\u001b[0m\u001b[37m\u001b[0m \u001b[1m1s\u001b[0m 3ms/step - loss: 0.9727 - val_loss: 0.8868\n",
      "Epoch 2/100\n",
      "\u001b[1m120/120\u001b[0m \u001b[32m━━━━━━━━━━━━━━━━━━━━\u001b[0m\u001b[37m\u001b[0m \u001b[1m0s\u001b[0m 2ms/step - loss: 0.8870 - val_loss: 0.8281\n",
      "Epoch 3/100\n",
      "\u001b[1m120/120\u001b[0m \u001b[32m━━━━━━━━━━━━━━━━━━━━\u001b[0m\u001b[37m\u001b[0m \u001b[1m0s\u001b[0m 2ms/step - loss: 0.8266 - val_loss: 0.7823\n",
      "Epoch 4/100\n",
      "\u001b[1m120/120\u001b[0m \u001b[32m━━━━━━━━━━━━━━━━━━━━\u001b[0m\u001b[37m\u001b[0m \u001b[1m0s\u001b[0m 2ms/step - loss: 0.7721 - val_loss: 0.7375\n",
      "Epoch 5/100\n",
      "\u001b[1m120/120\u001b[0m \u001b[32m━━━━━━━━━━━━━━━━━━━━\u001b[0m\u001b[37m\u001b[0m \u001b[1m0s\u001b[0m 2ms/step - loss: 0.7233 - val_loss: 0.6917\n",
      "Epoch 6/100\n",
      "\u001b[1m120/120\u001b[0m \u001b[32m━━━━━━━━━━━━━━━━━━━━\u001b[0m\u001b[37m\u001b[0m \u001b[1m0s\u001b[0m 2ms/step - loss: 0.6913 - val_loss: 0.6622\n",
      "Epoch 7/100\n",
      "\u001b[1m120/120\u001b[0m \u001b[32m━━━━━━━━━━━━━━━━━━━━\u001b[0m\u001b[37m\u001b[0m \u001b[1m0s\u001b[0m 2ms/step - loss: 0.6654 - val_loss: 0.6450\n",
      "Epoch 8/100\n",
      "\u001b[1m120/120\u001b[0m \u001b[32m━━━━━━━━━━━━━━━━━━━━\u001b[0m\u001b[37m\u001b[0m \u001b[1m0s\u001b[0m 2ms/step - loss: 0.6497 - val_loss: 0.6329\n",
      "Epoch 9/100\n",
      "\u001b[1m120/120\u001b[0m \u001b[32m━━━━━━━━━━━━━━━━━━━━\u001b[0m\u001b[37m\u001b[0m \u001b[1m0s\u001b[0m 2ms/step - loss: 0.6382 - val_loss: 0.6250\n",
      "Epoch 10/100\n",
      "\u001b[1m120/120\u001b[0m \u001b[32m━━━━━━━━━━━━━━━━━━━━\u001b[0m\u001b[37m\u001b[0m \u001b[1m0s\u001b[0m 2ms/step - loss: 0.6268 - val_loss: 0.6185\n",
      "Epoch 11/100\n",
      "\u001b[1m120/120\u001b[0m \u001b[32m━━━━━━━━━━━━━━━━━━━━\u001b[0m\u001b[37m\u001b[0m \u001b[1m0s\u001b[0m 2ms/step - loss: 0.6244 - val_loss: 0.6137\n",
      "Epoch 12/100\n",
      "\u001b[1m120/120\u001b[0m \u001b[32m━━━━━━━━━━━━━━━━━━━━\u001b[0m\u001b[37m\u001b[0m \u001b[1m0s\u001b[0m 2ms/step - loss: 0.6132 - val_loss: 0.6092\n",
      "Epoch 13/100\n",
      "\u001b[1m120/120\u001b[0m \u001b[32m━━━━━━━━━━━━━━━━━━━━\u001b[0m\u001b[37m\u001b[0m \u001b[1m0s\u001b[0m 2ms/step - loss: 0.6096 - val_loss: 0.6079\n",
      "Epoch 14/100\n",
      "\u001b[1m120/120\u001b[0m \u001b[32m━━━━━━━━━━━━━━━━━━━━\u001b[0m\u001b[37m\u001b[0m \u001b[1m0s\u001b[0m 2ms/step - loss: 0.6122 - val_loss: 0.6049\n",
      "Epoch 15/100\n",
      "\u001b[1m120/120\u001b[0m \u001b[32m━━━━━━━━━━━━━━━━━━━━\u001b[0m\u001b[37m\u001b[0m \u001b[1m0s\u001b[0m 2ms/step - loss: 0.6022 - val_loss: 0.6055\n",
      "Epoch 16/100\n",
      "\u001b[1m120/120\u001b[0m \u001b[32m━━━━━━━━━━━━━━━━━━━━\u001b[0m\u001b[37m\u001b[0m \u001b[1m0s\u001b[0m 2ms/step - loss: 0.6074 - val_loss: 0.6020\n",
      "Epoch 17/100\n",
      "\u001b[1m120/120\u001b[0m \u001b[32m━━━━━━━━━━━━━━━━━━━━\u001b[0m\u001b[37m\u001b[0m \u001b[1m0s\u001b[0m 2ms/step - loss: 0.6067 - val_loss: 0.6017\n",
      "Epoch 18/100\n",
      "\u001b[1m120/120\u001b[0m \u001b[32m━━━━━━━━━━━━━━━━━━━━\u001b[0m\u001b[37m\u001b[0m \u001b[1m0s\u001b[0m 2ms/step - loss: 0.6030 - val_loss: 0.6010\n",
      "Epoch 19/100\n",
      "\u001b[1m120/120\u001b[0m \u001b[32m━━━━━━━━━━━━━━━━━━━━\u001b[0m\u001b[37m\u001b[0m \u001b[1m0s\u001b[0m 2ms/step - loss: 0.6064 - val_loss: 0.5990\n",
      "Epoch 20/100\n",
      "\u001b[1m120/120\u001b[0m \u001b[32m━━━━━━━━━━━━━━━━━━━━\u001b[0m\u001b[37m\u001b[0m \u001b[1m0s\u001b[0m 2ms/step - loss: 0.5998 - val_loss: 0.5998\n",
      "Epoch 21/100\n",
      "\u001b[1m120/120\u001b[0m \u001b[32m━━━━━━━━━━━━━━━━━━━━\u001b[0m\u001b[37m\u001b[0m \u001b[1m0s\u001b[0m 2ms/step - loss: 0.6061 - val_loss: 0.5983\n",
      "Epoch 22/100\n",
      "\u001b[1m120/120\u001b[0m \u001b[32m━━━━━━━━━━━━━━━━━━━━\u001b[0m\u001b[37m\u001b[0m \u001b[1m0s\u001b[0m 2ms/step - loss: 0.6042 - val_loss: 0.5976\n",
      "Epoch 23/100\n",
      "\u001b[1m120/120\u001b[0m \u001b[32m━━━━━━━━━━━━━━━━━━━━\u001b[0m\u001b[37m\u001b[0m \u001b[1m0s\u001b[0m 2ms/step - loss: 0.5978 - val_loss: 0.5969\n",
      "Epoch 24/100\n",
      "\u001b[1m120/120\u001b[0m \u001b[32m━━━━━━━━━━━━━━━━━━━━\u001b[0m\u001b[37m\u001b[0m \u001b[1m0s\u001b[0m 2ms/step - loss: 0.6076 - val_loss: 0.5962\n",
      "Epoch 25/100\n",
      "\u001b[1m120/120\u001b[0m \u001b[32m━━━━━━━━━━━━━━━━━━━━\u001b[0m\u001b[37m\u001b[0m \u001b[1m0s\u001b[0m 2ms/step - loss: 0.5989 - val_loss: 0.5965\n",
      "Epoch 26/100\n",
      "\u001b[1m120/120\u001b[0m \u001b[32m━━━━━━━━━━━━━━━━━━━━\u001b[0m\u001b[37m\u001b[0m \u001b[1m0s\u001b[0m 2ms/step - loss: 0.6045 - val_loss: 0.5969\n",
      "Epoch 27/100\n",
      "\u001b[1m120/120\u001b[0m \u001b[32m━━━━━━━━━━━━━━━━━━━━\u001b[0m\u001b[37m\u001b[0m \u001b[1m0s\u001b[0m 3ms/step - loss: 0.5992 - val_loss: 0.5985\n",
      "Epoch 28/100\n",
      "\u001b[1m120/120\u001b[0m \u001b[32m━━━━━━━━━━━━━━━━━━━━\u001b[0m\u001b[37m\u001b[0m \u001b[1m0s\u001b[0m 3ms/step - loss: 0.6029 - val_loss: 0.5953\n",
      "Epoch 29/100\n",
      "\u001b[1m120/120\u001b[0m \u001b[32m━━━━━━━━━━━━━━━━━━━━\u001b[0m\u001b[37m\u001b[0m \u001b[1m0s\u001b[0m 3ms/step - loss: 0.6024 - val_loss: 0.5952\n",
      "Epoch 30/100\n",
      "\u001b[1m120/120\u001b[0m \u001b[32m━━━━━━━━━━━━━━━━━━━━\u001b[0m\u001b[37m\u001b[0m \u001b[1m0s\u001b[0m 3ms/step - loss: 0.6002 - val_loss: 0.5948\n",
      "Epoch 31/100\n",
      "\u001b[1m120/120\u001b[0m \u001b[32m━━━━━━━━━━━━━━━━━━━━\u001b[0m\u001b[37m\u001b[0m \u001b[1m0s\u001b[0m 2ms/step - loss: 0.5980 - val_loss: 0.5953\n",
      "Epoch 32/100\n",
      "\u001b[1m120/120\u001b[0m \u001b[32m━━━━━━━━━━━━━━━━━━━━\u001b[0m\u001b[37m\u001b[0m \u001b[1m0s\u001b[0m 2ms/step - loss: 0.5945 - val_loss: 0.5967\n",
      "Epoch 33/100\n",
      "\u001b[1m120/120\u001b[0m \u001b[32m━━━━━━━━━━━━━━━━━━━━\u001b[0m\u001b[37m\u001b[0m \u001b[1m0s\u001b[0m 3ms/step - loss: 0.6010 - val_loss: 0.5955\n",
      "Epoch 34/100\n",
      "\u001b[1m120/120\u001b[0m \u001b[32m━━━━━━━━━━━━━━━━━━━━\u001b[0m\u001b[37m\u001b[0m \u001b[1m0s\u001b[0m 2ms/step - loss: 0.6012 - val_loss: 0.5957\n",
      "Epoch 35/100\n",
      "\u001b[1m120/120\u001b[0m \u001b[32m━━━━━━━━━━━━━━━━━━━━\u001b[0m\u001b[37m\u001b[0m \u001b[1m0s\u001b[0m 2ms/step - loss: 0.5966 - val_loss: 0.5947\n",
      "Epoch 36/100\n",
      "\u001b[1m120/120\u001b[0m \u001b[32m━━━━━━━━━━━━━━━━━━━━\u001b[0m\u001b[37m\u001b[0m \u001b[1m0s\u001b[0m 2ms/step - loss: 0.5937 - val_loss: 0.5971\n",
      "Epoch 37/100\n",
      "\u001b[1m120/120\u001b[0m \u001b[32m━━━━━━━━━━━━━━━━━━━━\u001b[0m\u001b[37m\u001b[0m \u001b[1m0s\u001b[0m 2ms/step - loss: 0.5884 - val_loss: 0.5941\n",
      "Epoch 38/100\n",
      "\u001b[1m120/120\u001b[0m \u001b[32m━━━━━━━━━━━━━━━━━━━━\u001b[0m\u001b[37m\u001b[0m \u001b[1m0s\u001b[0m 2ms/step - loss: 0.5938 - val_loss: 0.5942\n",
      "Epoch 39/100\n",
      "\u001b[1m120/120\u001b[0m \u001b[32m━━━━━━━━━━━━━━━━━━━━\u001b[0m\u001b[37m\u001b[0m \u001b[1m0s\u001b[0m 2ms/step - loss: 0.5952 - val_loss: 0.5982\n",
      "Epoch 40/100\n",
      "\u001b[1m120/120\u001b[0m \u001b[32m━━━━━━━━━━━━━━━━━━━━\u001b[0m\u001b[37m\u001b[0m \u001b[1m0s\u001b[0m 2ms/step - loss: 0.6020 - val_loss: 0.5960\n",
      "Epoch 41/100\n",
      "\u001b[1m120/120\u001b[0m \u001b[32m━━━━━━━━━━━━━━━━━━━━\u001b[0m\u001b[37m\u001b[0m \u001b[1m0s\u001b[0m 2ms/step - loss: 0.6055 - val_loss: 0.5941\n",
      "Epoch 42/100\n",
      "\u001b[1m120/120\u001b[0m \u001b[32m━━━━━━━━━━━━━━━━━━━━\u001b[0m\u001b[37m\u001b[0m \u001b[1m0s\u001b[0m 2ms/step - loss: 0.5902 - val_loss: 0.5948\n",
      "Epoch 43/100\n",
      "\u001b[1m120/120\u001b[0m \u001b[32m━━━━━━━━━━━━━━━━━━━━\u001b[0m\u001b[37m\u001b[0m \u001b[1m0s\u001b[0m 2ms/step - loss: 0.5970 - val_loss: 0.5935\n",
      "Epoch 44/100\n",
      "\u001b[1m120/120\u001b[0m \u001b[32m━━━━━━━━━━━━━━━━━━━━\u001b[0m\u001b[37m\u001b[0m \u001b[1m0s\u001b[0m 2ms/step - loss: 0.6026 - val_loss: 0.5953\n",
      "Epoch 45/100\n",
      "\u001b[1m120/120\u001b[0m \u001b[32m━━━━━━━━━━━━━━━━━━━━\u001b[0m\u001b[37m\u001b[0m \u001b[1m0s\u001b[0m 2ms/step - loss: 0.5947 - val_loss: 0.5934\n",
      "Epoch 46/100\n",
      "\u001b[1m120/120\u001b[0m \u001b[32m━━━━━━━━━━━━━━━━━━━━\u001b[0m\u001b[37m\u001b[0m \u001b[1m0s\u001b[0m 2ms/step - loss: 0.5941 - val_loss: 0.5952\n",
      "Epoch 47/100\n",
      "\u001b[1m120/120\u001b[0m \u001b[32m━━━━━━━━━━━━━━━━━━━━\u001b[0m\u001b[37m\u001b[0m \u001b[1m0s\u001b[0m 2ms/step - loss: 0.5929 - val_loss: 0.5946\n",
      "Epoch 48/100\n",
      "\u001b[1m120/120\u001b[0m \u001b[32m━━━━━━━━━━━━━━━━━━━━\u001b[0m\u001b[37m\u001b[0m \u001b[1m0s\u001b[0m 2ms/step - loss: 0.5965 - val_loss: 0.5967\n",
      "Epoch 49/100\n",
      "\u001b[1m120/120\u001b[0m \u001b[32m━━━━━━━━━━━━━━━━━━━━\u001b[0m\u001b[37m\u001b[0m \u001b[1m0s\u001b[0m 2ms/step - loss: 0.5948 - val_loss: 0.5949\n",
      "Epoch 50/100\n",
      "\u001b[1m120/120\u001b[0m \u001b[32m━━━━━━━━━━━━━━━━━━━━\u001b[0m\u001b[37m\u001b[0m \u001b[1m0s\u001b[0m 2ms/step - loss: 0.5891 - val_loss: 0.5937\n",
      "Epoch 51/100\n",
      "\u001b[1m120/120\u001b[0m \u001b[32m━━━━━━━━━━━━━━━━━━━━\u001b[0m\u001b[37m\u001b[0m \u001b[1m0s\u001b[0m 2ms/step - loss: 0.5904 - val_loss: 0.5942\n",
      "Epoch 52/100\n",
      "\u001b[1m120/120\u001b[0m \u001b[32m━━━━━━━━━━━━━━━━━━━━\u001b[0m\u001b[37m\u001b[0m \u001b[1m0s\u001b[0m 2ms/step - loss: 0.5890 - val_loss: 0.5938\n",
      "Epoch 53/100\n",
      "\u001b[1m120/120\u001b[0m \u001b[32m━━━━━━━━━━━━━━━━━━━━\u001b[0m\u001b[37m\u001b[0m \u001b[1m0s\u001b[0m 2ms/step - loss: 0.5977 - val_loss: 0.5943\n",
      "Epoch 54/100\n",
      "\u001b[1m120/120\u001b[0m \u001b[32m━━━━━━━━━━━━━━━━━━━━\u001b[0m\u001b[37m\u001b[0m \u001b[1m0s\u001b[0m 2ms/step - loss: 0.5952 - val_loss: 0.5939\n",
      "Epoch 55/100\n",
      "\u001b[1m120/120\u001b[0m \u001b[32m━━━━━━━━━━━━━━━━━━━━\u001b[0m\u001b[37m\u001b[0m \u001b[1m0s\u001b[0m 2ms/step - loss: 0.5960 - val_loss: 0.5949\n",
      "Epoch 56/100\n",
      "\u001b[1m120/120\u001b[0m \u001b[32m━━━━━━━━━━━━━━━━━━━━\u001b[0m\u001b[37m\u001b[0m \u001b[1m0s\u001b[0m 2ms/step - loss: 0.5963 - val_loss: 0.5940\n",
      "Epoch 57/100\n",
      "\u001b[1m120/120\u001b[0m \u001b[32m━━━━━━━━━━━━━━━━━━━━\u001b[0m\u001b[37m\u001b[0m \u001b[1m0s\u001b[0m 2ms/step - loss: 0.5919 - val_loss: 0.5937\n",
      "Epoch 58/100\n",
      "\u001b[1m120/120\u001b[0m \u001b[32m━━━━━━━━━━━━━━━━━━━━\u001b[0m\u001b[37m\u001b[0m \u001b[1m0s\u001b[0m 2ms/step - loss: 0.5923 - val_loss: 0.5950\n",
      "Epoch 59/100\n",
      "\u001b[1m120/120\u001b[0m \u001b[32m━━━━━━━━━━━━━━━━━━━━\u001b[0m\u001b[37m\u001b[0m \u001b[1m0s\u001b[0m 2ms/step - loss: 0.5932 - val_loss: 0.5964\n",
      "Epoch 60/100\n",
      "\u001b[1m120/120\u001b[0m \u001b[32m━━━━━━━━━━━━━━━━━━━━\u001b[0m\u001b[37m\u001b[0m \u001b[1m0s\u001b[0m 2ms/step - loss: 0.5910 - val_loss: 0.5951\n",
      "Epoch 61/100\n",
      "\u001b[1m120/120\u001b[0m \u001b[32m━━━━━━━━━━━━━━━━━━━━\u001b[0m\u001b[37m\u001b[0m \u001b[1m0s\u001b[0m 3ms/step - loss: 0.5922 - val_loss: 0.5951\n",
      "Epoch 62/100\n",
      "\u001b[1m120/120\u001b[0m \u001b[32m━━━━━━━━━━━━━━━━━━━━\u001b[0m\u001b[37m\u001b[0m \u001b[1m0s\u001b[0m 2ms/step - loss: 0.5866 - val_loss: 0.5957\n",
      "Epoch 63/100\n",
      "\u001b[1m120/120\u001b[0m \u001b[32m━━━━━━━━━━━━━━━━━━━━\u001b[0m\u001b[37m\u001b[0m \u001b[1m0s\u001b[0m 2ms/step - loss: 0.5896 - val_loss: 0.5943\n",
      "Epoch 64/100\n",
      "\u001b[1m120/120\u001b[0m \u001b[32m━━━━━━━━━━━━━━━━━━━━\u001b[0m\u001b[37m\u001b[0m \u001b[1m0s\u001b[0m 3ms/step - loss: 0.5962 - val_loss: 0.5943\n",
      "Epoch 65/100\n",
      "\u001b[1m120/120\u001b[0m \u001b[32m━━━━━━━━━━━━━━━━━━━━\u001b[0m\u001b[37m\u001b[0m \u001b[1m0s\u001b[0m 2ms/step - loss: 0.5879 - val_loss: 0.5963\n",
      "Epoch 66/100\n",
      "\u001b[1m120/120\u001b[0m \u001b[32m━━━━━━━━━━━━━━━━━━━━\u001b[0m\u001b[37m\u001b[0m \u001b[1m0s\u001b[0m 2ms/step - loss: 0.5929 - val_loss: 0.5941\n",
      "Epoch 67/100\n",
      "\u001b[1m120/120\u001b[0m \u001b[32m━━━━━━━━━━━━━━━━━━━━\u001b[0m\u001b[37m\u001b[0m \u001b[1m0s\u001b[0m 2ms/step - loss: 0.5908 - val_loss: 0.5933\n",
      "Epoch 68/100\n",
      "\u001b[1m120/120\u001b[0m \u001b[32m━━━━━━━━━━━━━━━━━━━━\u001b[0m\u001b[37m\u001b[0m \u001b[1m0s\u001b[0m 2ms/step - loss: 0.5920 - val_loss: 0.5951\n",
      "Epoch 69/100\n",
      "\u001b[1m120/120\u001b[0m \u001b[32m━━━━━━━━━━━━━━━━━━━━\u001b[0m\u001b[37m\u001b[0m \u001b[1m0s\u001b[0m 2ms/step - loss: 0.5877 - val_loss: 0.5960\n",
      "Epoch 70/100\n",
      "\u001b[1m120/120\u001b[0m \u001b[32m━━━━━━━━━━━━━━━━━━━━\u001b[0m\u001b[37m\u001b[0m \u001b[1m0s\u001b[0m 2ms/step - loss: 0.5951 - val_loss: 0.5954\n",
      "Epoch 71/100\n",
      "\u001b[1m120/120\u001b[0m \u001b[32m━━━━━━━━━━━━━━━━━━━━\u001b[0m\u001b[37m\u001b[0m \u001b[1m0s\u001b[0m 2ms/step - loss: 0.5947 - val_loss: 0.5937\n",
      "Epoch 72/100\n",
      "\u001b[1m120/120\u001b[0m \u001b[32m━━━━━━━━━━━━━━━━━━━━\u001b[0m\u001b[37m\u001b[0m \u001b[1m0s\u001b[0m 2ms/step - loss: 0.5943 - val_loss: 0.5953\n",
      "Epoch 73/100\n",
      "\u001b[1m120/120\u001b[0m \u001b[32m━━━━━━━━━━━━━━━━━━━━\u001b[0m\u001b[37m\u001b[0m \u001b[1m0s\u001b[0m 2ms/step - loss: 0.5894 - val_loss: 0.5938\n",
      "Epoch 74/100\n",
      "\u001b[1m120/120\u001b[0m \u001b[32m━━━━━━━━━━━━━━━━━━━━\u001b[0m\u001b[37m\u001b[0m \u001b[1m0s\u001b[0m 3ms/step - loss: 0.5882 - val_loss: 0.5950\n",
      "Epoch 75/100\n",
      "\u001b[1m120/120\u001b[0m \u001b[32m━━━━━━━━━━━━━━━━━━━━\u001b[0m\u001b[37m\u001b[0m \u001b[1m0s\u001b[0m 3ms/step - loss: 0.5948 - val_loss: 0.5937\n",
      "Epoch 76/100\n",
      "\u001b[1m120/120\u001b[0m \u001b[32m━━━━━━━━━━━━━━━━━━━━\u001b[0m\u001b[37m\u001b[0m \u001b[1m0s\u001b[0m 2ms/step - loss: 0.5943 - val_loss: 0.5939\n",
      "Epoch 77/100\n",
      "\u001b[1m120/120\u001b[0m \u001b[32m━━━━━━━━━━━━━━━━━━━━\u001b[0m\u001b[37m\u001b[0m \u001b[1m0s\u001b[0m 2ms/step - loss: 0.5866 - val_loss: 0.5942\n",
      "Epoch 78/100\n",
      "\u001b[1m120/120\u001b[0m \u001b[32m━━━━━━━━━━━━━━━━━━━━\u001b[0m\u001b[37m\u001b[0m \u001b[1m0s\u001b[0m 2ms/step - loss: 0.5950 - val_loss: 0.5939\n",
      "Epoch 79/100\n",
      "\u001b[1m120/120\u001b[0m \u001b[32m━━━━━━━━━━━━━━━━━━━━\u001b[0m\u001b[37m\u001b[0m \u001b[1m0s\u001b[0m 2ms/step - loss: 0.5839 - val_loss: 0.5940\n",
      "Epoch 80/100\n",
      "\u001b[1m120/120\u001b[0m \u001b[32m━━━━━━━━━━━━━━━━━━━━\u001b[0m\u001b[37m\u001b[0m \u001b[1m0s\u001b[0m 2ms/step - loss: 0.5879 - val_loss: 0.5938\n",
      "Epoch 81/100\n",
      "\u001b[1m120/120\u001b[0m \u001b[32m━━━━━━━━━━━━━━━━━━━━\u001b[0m\u001b[37m\u001b[0m \u001b[1m0s\u001b[0m 2ms/step - loss: 0.5983 - val_loss: 0.5942\n",
      "Epoch 82/100\n",
      "\u001b[1m120/120\u001b[0m \u001b[32m━━━━━━━━━━━━━━━━━━━━\u001b[0m\u001b[37m\u001b[0m \u001b[1m0s\u001b[0m 2ms/step - loss: 0.5882 - val_loss: 0.5959\n",
      "Epoch 83/100\n",
      "\u001b[1m120/120\u001b[0m \u001b[32m━━━━━━━━━━━━━━━━━━━━\u001b[0m\u001b[37m\u001b[0m \u001b[1m0s\u001b[0m 2ms/step - loss: 0.5888 - val_loss: 0.5949\n",
      "Epoch 84/100\n",
      "\u001b[1m120/120\u001b[0m \u001b[32m━━━━━━━━━━━━━━━━━━━━\u001b[0m\u001b[37m\u001b[0m \u001b[1m0s\u001b[0m 2ms/step - loss: 0.5911 - val_loss: 0.5952\n",
      "Epoch 85/100\n",
      "\u001b[1m120/120\u001b[0m \u001b[32m━━━━━━━━━━━━━━━━━━━━\u001b[0m\u001b[37m\u001b[0m \u001b[1m0s\u001b[0m 2ms/step - loss: 0.5916 - val_loss: 0.5953\n",
      "Epoch 86/100\n",
      "\u001b[1m120/120\u001b[0m \u001b[32m━━━━━━━━━━━━━━━━━━━━\u001b[0m\u001b[37m\u001b[0m \u001b[1m0s\u001b[0m 2ms/step - loss: 0.5893 - val_loss: 0.5965\n",
      "Epoch 87/100\n",
      "\u001b[1m120/120\u001b[0m \u001b[32m━━━━━━━━━━━━━━━━━━━━\u001b[0m\u001b[37m\u001b[0m \u001b[1m0s\u001b[0m 2ms/step - loss: 0.5856 - val_loss: 0.5949\n",
      "Epoch 88/100\n",
      "\u001b[1m120/120\u001b[0m \u001b[32m━━━━━━━━━━━━━━━━━━━━\u001b[0m\u001b[37m\u001b[0m \u001b[1m0s\u001b[0m 2ms/step - loss: 0.5955 - val_loss: 0.5945\n",
      "Epoch 89/100\n",
      "\u001b[1m120/120\u001b[0m \u001b[32m━━━━━━━━━━━━━━━━━━━━\u001b[0m\u001b[37m\u001b[0m \u001b[1m0s\u001b[0m 2ms/step - loss: 0.5937 - val_loss: 0.5942\n",
      "Epoch 90/100\n",
      "\u001b[1m120/120\u001b[0m \u001b[32m━━━━━━━━━━━━━━━━━━━━\u001b[0m\u001b[37m\u001b[0m \u001b[1m0s\u001b[0m 2ms/step - loss: 0.5917 - val_loss: 0.5964\n",
      "Epoch 91/100\n",
      "\u001b[1m120/120\u001b[0m \u001b[32m━━━━━━━━━━━━━━━━━━━━\u001b[0m\u001b[37m\u001b[0m \u001b[1m0s\u001b[0m 2ms/step - loss: 0.5869 - val_loss: 0.5949\n",
      "Epoch 92/100\n",
      "\u001b[1m120/120\u001b[0m \u001b[32m━━━━━━━━━━━━━━━━━━━━\u001b[0m\u001b[37m\u001b[0m \u001b[1m0s\u001b[0m 2ms/step - loss: 0.5873 - val_loss: 0.5949\n",
      "Epoch 93/100\n",
      "\u001b[1m120/120\u001b[0m \u001b[32m━━━━━━━━━━━━━━━━━━━━\u001b[0m\u001b[37m\u001b[0m \u001b[1m0s\u001b[0m 2ms/step - loss: 0.5877 - val_loss: 0.5943\n",
      "Epoch 94/100\n",
      "\u001b[1m120/120\u001b[0m \u001b[32m━━━━━━━━━━━━━━━━━━━━\u001b[0m\u001b[37m\u001b[0m \u001b[1m0s\u001b[0m 2ms/step - loss: 0.5901 - val_loss: 0.5955\n",
      "Epoch 95/100\n",
      "\u001b[1m120/120\u001b[0m \u001b[32m━━━━━━━━━━━━━━━━━━━━\u001b[0m\u001b[37m\u001b[0m \u001b[1m0s\u001b[0m 2ms/step - loss: 0.5956 - val_loss: 0.5960\n",
      "Epoch 96/100\n",
      "\u001b[1m120/120\u001b[0m \u001b[32m━━━━━━━━━━━━━━━━━━━━\u001b[0m\u001b[37m\u001b[0m \u001b[1m0s\u001b[0m 2ms/step - loss: 0.5845 - val_loss: 0.5947\n",
      "Epoch 97/100\n",
      "\u001b[1m120/120\u001b[0m \u001b[32m━━━━━━━━━━━━━━━━━━━━\u001b[0m\u001b[37m\u001b[0m \u001b[1m0s\u001b[0m 2ms/step - loss: 0.5856 - val_loss: 0.5946\n",
      "Epoch 98/100\n",
      "\u001b[1m120/120\u001b[0m \u001b[32m━━━━━━━━━━━━━━━━━━━━\u001b[0m\u001b[37m\u001b[0m \u001b[1m0s\u001b[0m 3ms/step - loss: 0.5920 - val_loss: 0.5966\n",
      "Epoch 99/100\n",
      "\u001b[1m120/120\u001b[0m \u001b[32m━━━━━━━━━━━━━━━━━━━━\u001b[0m\u001b[37m\u001b[0m \u001b[1m0s\u001b[0m 2ms/step - loss: 0.5895 - val_loss: 0.5945\n",
      "Epoch 100/100\n",
      "\u001b[1m120/120\u001b[0m \u001b[32m━━━━━━━━━━━━━━━━━━━━\u001b[0m\u001b[37m\u001b[0m \u001b[1m0s\u001b[0m 2ms/step - loss: 0.5829 - val_loss: 0.5939\n"
     ]
    },
    {
     "data": {
      "text/plain": [
       "<keras.src.callbacks.history.History at 0x7febc4d10cd0>"
      ]
     },
     "execution_count": 49,
     "metadata": {},
     "output_type": "execute_result"
    }
   ],
   "source": [
    "mock1_autoencoder_trained = train_autoencoder(\n",
    "                                autoencoder = mock1_autoencoder,\n",
    "                                X_train = X_train,\n",
    "                                epochs=100,\n",
    "                                batch_size=64,\n",
    "                                validation_split=0.2,\n",
    "                                verbose=1\n",
    "                            )\n",
    "mock1_autoencoder_trained"
   ]
  },
  {
   "cell_type": "code",
   "execution_count": null,
   "id": "0eed2a2c-4e89-45ee-96e1-8e52f6f78f76",
   "metadata": {},
   "outputs": [],
   "source": [
    "# 5. Predict and flag fraud\n",
    "def detect_anomalies(autoencoder, X_test, y_test, threshold_quantile=95):\n",
    "    \"\"\"\n",
    "    Detect anomalies based on reconstruction error from the autoencoder.\n",
    "\n",
    "    Parameters:\n",
    "    - autoencoder: trained Keras model (NOT the history object!)\n",
    "    - X_test: np.array, data to reconstruct\n",
    "    - y_test: np.array, true labels (0 = normal, 1 = fraud)\n",
    "    - threshold_quantile: int, quantile (%) to set reconstruction error threshold\n",
    "\n",
    "    Returns:\n",
    "    - recon_error: array of reconstruction errors\n",
    "    - predicted_fraud: array of binary fraud predictions (1 = fraud)\n",
    "    \"\"\"\n",
    "    X_pred = autoencoder.predict(X_test)\n",
    "    recon_error = np.mean(np.square(X_test - X_pred), axis=1)\n",
    "    threshold = np.percentile(recon_error[y_test == 0], threshold_quantile)\n",
    "    predicted_fraud = (recon_error > threshold).astype(int)\n",
    "    print(f\"Threshold (q={threshold_quantile}): {threshold:.4f}\")\n",
    "    print(classification_report(y_test, predicted_fraud))\n",
    "    return recon_error, predicted_fraud"
   ]
  },
  {
   "cell_type": "code",
   "execution_count": 51,
   "id": "06e5b085-5fb9-442c-ae56-211ce1b2854d",
   "metadata": {
    "tags": []
   },
   "outputs": [
    {
     "name": "stdout",
     "output_type": "stream",
     "text": [
      "\u001b[1m313/313\u001b[0m \u001b[32m━━━━━━━━━━━━━━━━━━━━\u001b[0m\u001b[37m\u001b[0m \u001b[1m0s\u001b[0m 1ms/step\n",
      "Threshold (q=95): 1.2290\n",
      "              precision    recall  f1-score   support\n",
      "\n",
      "           0       1.00      0.95      0.97      9526\n",
      "           1       0.50      0.99      0.66       474\n",
      "\n",
      "    accuracy                           0.95     10000\n",
      "   macro avg       0.75      0.97      0.82     10000\n",
      "weighted avg       0.98      0.95      0.96     10000\n",
      "\n"
     ]
    }
   ],
   "source": [
    "mock1_recon_error,  = detect_anomalies(autoencoder = mock1_autoencoder, \n",
    "                                                                 X_test = X_test, \n",
    "                                                                 y_test = y_test)"
   ]
  },
  {
   "cell_type": "code",
   "execution_count": 53,
   "id": "58301f0b-a47e-44d8-abda-db10a4ece5df",
   "metadata": {
    "tags": []
   },
   "outputs": [
    {
     "data": {
      "text/plain": [
       "array([0.58692018, 4.84555632, 0.69704706, ..., 0.1451165 , 0.62353797,\n",
       "       0.44471073])"
      ]
     },
     "execution_count": 53,
     "metadata": {},
     "output_type": "execute_result"
    }
   ],
   "source": [
    "mock1_recon_error"
   ]
  },
  {
   "cell_type": "code",
   "execution_count": 54,
   "id": "19b623d6-39be-4c8f-9fcc-71d7c37be126",
   "metadata": {
    "tags": []
   },
   "outputs": [
    {
     "data": {
      "text/plain": [
       "array([0, 1, 0, ..., 0, 0, 0])"
      ]
     },
     "execution_count": 54,
     "metadata": {},
     "output_type": "execute_result"
    }
   ],
   "source": [
    "mock1_predicted_fraud"
   ]
  },
  {
   "cell_type": "code",
   "execution_count": 55,
   "id": "a7359cd1-de60-4025-8e7a-1b16cc9d5169",
   "metadata": {
    "tags": []
   },
   "outputs": [],
   "source": [
    "# 6. Extract and visualize embeddings\n",
    "def extract_embeddings(encoder, X, y):\n",
    "    embeddings = encoder.predict(X)\n",
    "    tsne = TSNE(n_components=2, random_state=42)\n",
    "    z_tsne = tsne.fit_transform(embeddings)\n",
    "    plt.figure(figsize=(8, 6))\n",
    "    plt.scatter(z_tsne[:, 0], z_tsne[:, 1], c=y, cmap='coolwarm', alpha=0.6)\n",
    "    plt.title(\"Latent Space (colored by fraud)\")\n",
    "    plt.colorbar(label='Fraud (1=yes)')\n",
    "    plt.show()\n",
    "    return embeddings"
   ]
  },
  {
   "cell_type": "code",
   "execution_count": 56,
   "id": "70787171-da3b-4763-8edb-bf5327c09600",
   "metadata": {
    "tags": []
   },
   "outputs": [
    {
     "name": "stdout",
     "output_type": "stream",
     "text": [
      "\u001b[1m313/313\u001b[0m \u001b[32m━━━━━━━━━━━━━━━━━━━━\u001b[0m\u001b[37m\u001b[0m \u001b[1m0s\u001b[0m 819us/step\n"
     ]
    },
    {
     "data": {
      "image/png": "[encoded data removed]",
      "text/plain": [
       "<Figure size 800x600 with 2 Axes>"
      ]
     },
     "metadata": {},
     "output_type": "display_data"
    }
   ],
   "source": [
    "mock1_embeddings = extract_embeddings(encoder = mock1_autoencoder, X = X_test, y = y_test)"
   ]
  },
  {
   "cell_type": "code",
   "execution_count": 57,
   "id": "5883b474-2149-43b0-af45-0d37cac0117b",
   "metadata": {
    "tags": []
   },
   "outputs": [
    {
     "data": {
      "text/plain": [
       "array([[-0.8642603 , -0.03610292,  0.58817834, ..., -0.3663666 ,\n",
       "         0.3165523 , -0.1176663 ],\n",
       "       [ 0.9183494 ,  2.7212794 ,  1.011503  , ...,  3.1597056 ,\n",
       "        -1.178356  , -0.08715898],\n",
       "       [ 0.51774395,  0.76794994,  0.03233868, ...,  0.8353802 ,\n",
       "         1.2821242 ,  1.2092564 ],\n",
       "       ...,\n",
       "       [ 1.83595   , -0.29820552, -0.33912843, ..., -0.34241354,\n",
       "        -0.5394266 , -0.53932756],\n",
       "       [-0.5409137 ,  0.4423583 ,  0.72679317, ..., -0.1641826 ,\n",
       "         0.05988144, -0.38951504],\n",
       "       [ 0.58826935,  0.82320994,  0.6379958 , ...,  0.07382986,\n",
       "        -0.09258667, -0.54701304]], dtype=float32)"
      ]
     },
     "execution_count": 57,
     "metadata": {},
     "output_type": "execute_result"
    }
   ],
   "source": [
    "mock1_embeddings"
   ]
  },
  {
   "cell_type": "code",
   "execution_count": null,
   "id": "92c037ba-a554-4c75-a97c-254d8195ca79",
   "metadata": {},
   "outputs": [],
   "source": [
    "# # Main function to run everything\n",
    "# def run_autoencoder_pipeline(timeunit='l3'):\n",
    "#     df = generate_mock_data()\n",
    "#     X_train, X_test, y_test, scaler = prepare_data(df, timeunit=timeunit)\n",
    "#     autoencoder, encoder = build_autoencoder(input_dim=X_train.shape[1])\n",
    "#     train_autoencoder(autoencoder, X_train)\n",
    "#     recon_error, predicted_fraud = detect_anomalies(autoencoder, X_test, y_test)\n",
    "#     embeddings = extract_embeddings(encoder, X_test, y_test)\n",
    "#     return {\n",
    "#         \"autoencoder\": autoencoder,\n",
    "#         \"encoder\": encoder,\n",
    "#         \"reconstruction_error\": recon_error,\n",
    "#         \"predicted_fraud\": predicted_fraud,\n",
    "#         \"embeddings\": embeddings\n",
    "#     }"
   ]
  },
  {
   "cell_type": "code",
   "execution_count": null,
   "id": "b39b843d-4406-40f6-b047-a20bf81bf729",
   "metadata": {},
   "outputs": [],
   "source": []
  },
  {
   "cell_type": "code",
   "execution_count": null,
   "id": "343456da-87db-4413-bf21-e511c17a05b2",
   "metadata": {},
   "outputs": [],
   "source": []
  },
  {
   "cell_type": "code",
   "execution_count": null,
   "id": "30746d67-e7b0-4ffe-9b7b-1acfa578e1de",
   "metadata": {},
   "outputs": [],
   "source": []
  },
  {
   "cell_type": "code",
   "execution_count": null,
   "id": "b4d14ac0-e340-47a0-9b0e-4341fa3f63bd",
   "metadata": {},
   "outputs": [],
   "source": [
    "# Run the pipeline\n",
    "results = run_autoencoder_pipeline('l3')"
   ]
  }
 ],
 "metadata": {
  "kernelspec": {
   "display_name": "workshop",
   "language": "python",
   "name": "workshop"
  },
  "language_info": {
   "codemirror_mode": {
    "name": "ipython",
    "version": 3
   },
   "file_extension": ".py",
   "mimetype": "text/x-python",
   "name": "python",
   "nbconvert_exporter": "python",
   "pygments_lexer": "ipython3",
   "version": "3.11.13"
  }
 },
 "nbformat": 4,
 "nbformat_minor": 5
}
